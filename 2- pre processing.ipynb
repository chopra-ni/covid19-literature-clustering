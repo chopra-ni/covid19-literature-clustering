{
 "cells": [
  {
   "cell_type": "code",
   "execution_count": 2,
   "metadata": {},
   "outputs": [],
   "source": [
    "import pandas as pd\n",
    "import numpy as np\n",
    "import seaborn as sns\n",
    "import matplotlib.pyplot as plt\n",
    "\n",
    "%matplotlib inline"
   ]
  },
  {
   "cell_type": "code",
   "execution_count": 3,
   "metadata": {},
   "outputs": [],
   "source": [
    "data = pd.read_csv('test_df_full.csv')"
   ]
  },
  {
   "cell_type": "code",
   "execution_count": 4,
   "metadata": {},
   "outputs": [
    {
     "data": {
      "text/html": [
       "<div>\n",
       "<style scoped>\n",
       "    .dataframe tbody tr th:only-of-type {\n",
       "        vertical-align: middle;\n",
       "    }\n",
       "\n",
       "    .dataframe tbody tr th {\n",
       "        vertical-align: top;\n",
       "    }\n",
       "\n",
       "    .dataframe thead th {\n",
       "        text-align: right;\n",
       "    }\n",
       "</style>\n",
       "<table border=\"1\" class=\"dataframe\">\n",
       "  <thead>\n",
       "    <tr style=\"text-align: right;\">\n",
       "      <th></th>\n",
       "      <th>paper_id</th>\n",
       "      <th>title</th>\n",
       "      <th>authors</th>\n",
       "      <th>abstract</th>\n",
       "      <th>body_text</th>\n",
       "    </tr>\n",
       "  </thead>\n",
       "  <tbody>\n",
       "    <tr>\n",
       "      <th>0</th>\n",
       "      <td>0000028b5cc154f68b8a269f6578f21e31f62977</td>\n",
       "      <td>\"Multi-faceted\" COVID-19: Russian experience</td>\n",
       "      <td>NaN</td>\n",
       "      <td>NaN</td>\n",
       "      <td>['According to current live statistics at the ...</td>\n",
       "    </tr>\n",
       "    <tr>\n",
       "      <th>1</th>\n",
       "      <td>0001418189999fea7f7cbe3e82703d71c85a6fe5</td>\n",
       "      <td>Absence of surface expression of feline infect...</td>\n",
       "      <td>['E Cornelissen', 'H Dewerchin', 'E Hamme', 'H...</td>\n",
       "      <td>['Feline infectious peritonitis virus (FIPV) p...</td>\n",
       "      <td>['Feline infectious peritonitis (FIP) is a fat...</td>\n",
       "    </tr>\n",
       "    <tr>\n",
       "      <th>2</th>\n",
       "      <td>00033d5a12240a8684cfe943954132b43434cf48</td>\n",
       "      <td>Detection of Severe Acute Respiratory Syndrome...</td>\n",
       "      <td>['Petra Wandernoth', 'Katharina Kriegsmann', '...</td>\n",
       "      <td>['Background: Amplification of viral ribonucle...</td>\n",
       "      <td>['Severe acute respiratory syndrome coronaviru...</td>\n",
       "    </tr>\n",
       "    <tr>\n",
       "      <th>3</th>\n",
       "      <td>0003793cf9e709bc2b9d0c8111186f78fb73fc04</td>\n",
       "      <td>Title: Rethinking high-risk groups in COVID-19</td>\n",
       "      <td>['Anastasia Vishnevetsky', 'Michael Levy']</td>\n",
       "      <td>NaN</td>\n",
       "      <td>[\"How do we protect our 'high-risk' patient po...</td>\n",
       "    </tr>\n",
       "    <tr>\n",
       "      <th>4</th>\n",
       "      <td>000379d7a7f37a2ccb978862b9f2016bd03259ea</td>\n",
       "      <td>ScienceDirect ScienceDirect Effect of Nanomate...</td>\n",
       "      <td>['Harish Devaraj', 'Rajiv Malhotra']</td>\n",
       "      <td>['approach. The NM shape in the conformal circ...</td>\n",
       "      <td>['Integration of functional electronic devices...</td>\n",
       "    </tr>\n",
       "  </tbody>\n",
       "</table>\n",
       "</div>"
      ],
      "text/plain": [
       "                                   paper_id  \\\n",
       "0  0000028b5cc154f68b8a269f6578f21e31f62977   \n",
       "1  0001418189999fea7f7cbe3e82703d71c85a6fe5   \n",
       "2  00033d5a12240a8684cfe943954132b43434cf48   \n",
       "3  0003793cf9e709bc2b9d0c8111186f78fb73fc04   \n",
       "4  000379d7a7f37a2ccb978862b9f2016bd03259ea   \n",
       "\n",
       "                                               title  \\\n",
       "0       \"Multi-faceted\" COVID-19: Russian experience   \n",
       "1  Absence of surface expression of feline infect...   \n",
       "2  Detection of Severe Acute Respiratory Syndrome...   \n",
       "3     Title: Rethinking high-risk groups in COVID-19   \n",
       "4  ScienceDirect ScienceDirect Effect of Nanomate...   \n",
       "\n",
       "                                             authors  \\\n",
       "0                                                NaN   \n",
       "1  ['E Cornelissen', 'H Dewerchin', 'E Hamme', 'H...   \n",
       "2  ['Petra Wandernoth', 'Katharina Kriegsmann', '...   \n",
       "3         ['Anastasia Vishnevetsky', 'Michael Levy']   \n",
       "4               ['Harish Devaraj', 'Rajiv Malhotra']   \n",
       "\n",
       "                                            abstract  \\\n",
       "0                                                NaN   \n",
       "1  ['Feline infectious peritonitis virus (FIPV) p...   \n",
       "2  ['Background: Amplification of viral ribonucle...   \n",
       "3                                                NaN   \n",
       "4  ['approach. The NM shape in the conformal circ...   \n",
       "\n",
       "                                           body_text  \n",
       "0  ['According to current live statistics at the ...  \n",
       "1  ['Feline infectious peritonitis (FIP) is a fat...  \n",
       "2  ['Severe acute respiratory syndrome coronaviru...  \n",
       "3  [\"How do we protect our 'high-risk' patient po...  \n",
       "4  ['Integration of functional electronic devices...  "
      ]
     },
     "execution_count": 4,
     "metadata": {},
     "output_type": "execute_result"
    }
   ],
   "source": [
    "data.head()"
   ]
  },
  {
   "cell_type": "code",
   "execution_count": 5,
   "metadata": {},
   "outputs": [],
   "source": [
    "df = data"
   ]
  },
  {
   "cell_type": "code",
   "execution_count": 6,
   "metadata": {},
   "outputs": [
    {
     "data": {
      "text/plain": [
       "Index               128\n",
       "paper_id       12504755\n",
       "title          20445494\n",
       "authors        22445875\n",
       "abstract      170373182\n",
       "body_text    5634921916\n",
       "dtype: int64"
      ]
     },
     "execution_count": 6,
     "metadata": {},
     "output_type": "execute_result"
    }
   ],
   "source": [
    "df.memory_usage(deep=True)"
   ]
  },
  {
   "cell_type": "code",
   "execution_count": 7,
   "metadata": {},
   "outputs": [
    {
     "data": {
      "text/plain": [
       "paper_id         0\n",
       "title        14023\n",
       "authors      12465\n",
       "abstract     41063\n",
       "body_text        0\n",
       "dtype: int64"
      ]
     },
     "execution_count": 7,
     "metadata": {},
     "output_type": "execute_result"
    }
   ],
   "source": [
    "df.isna().sum()"
   ]
  },
  {
   "cell_type": "code",
   "execution_count": 8,
   "metadata": {},
   "outputs": [
    {
     "data": {
      "text/html": [
       "<div>\n",
       "<style scoped>\n",
       "    .dataframe tbody tr th:only-of-type {\n",
       "        vertical-align: middle;\n",
       "    }\n",
       "\n",
       "    .dataframe tbody tr th {\n",
       "        vertical-align: top;\n",
       "    }\n",
       "\n",
       "    .dataframe thead th {\n",
       "        text-align: right;\n",
       "    }\n",
       "</style>\n",
       "<table border=\"1\" class=\"dataframe\">\n",
       "  <thead>\n",
       "    <tr style=\"text-align: right;\">\n",
       "      <th></th>\n",
       "      <th>paper_id</th>\n",
       "      <th>title</th>\n",
       "      <th>authors</th>\n",
       "      <th>abstract</th>\n",
       "      <th>body_text</th>\n",
       "    </tr>\n",
       "  </thead>\n",
       "  <tbody>\n",
       "    <tr>\n",
       "      <th>count</th>\n",
       "      <td>128915</td>\n",
       "      <td>114892</td>\n",
       "      <td>116450</td>\n",
       "      <td>87852</td>\n",
       "      <td>128915</td>\n",
       "    </tr>\n",
       "    <tr>\n",
       "      <th>unique</th>\n",
       "      <td>128915</td>\n",
       "      <td>108497</td>\n",
       "      <td>109095</td>\n",
       "      <td>85410</td>\n",
       "      <td>127012</td>\n",
       "    </tr>\n",
       "    <tr>\n",
       "      <th>top</th>\n",
       "      <td>7dd72bed57ec7334e414d73c55e5b2d7689b912a</td>\n",
       "      <td>Journal Pre-proof</td>\n",
       "      <td>['Xxx Xxx Xxx • Volume', 'Xxx Number']</td>\n",
       "      <td>[\"Publisher's Note Springer Nature remains neu...</td>\n",
       "      <td>['The nuclear receptor heterodimers of liver X...</td>\n",
       "    </tr>\n",
       "    <tr>\n",
       "      <th>freq</th>\n",
       "      <td>1</td>\n",
       "      <td>303</td>\n",
       "      <td>118</td>\n",
       "      <td>98</td>\n",
       "      <td>69</td>\n",
       "    </tr>\n",
       "  </tbody>\n",
       "</table>\n",
       "</div>"
      ],
      "text/plain": [
       "                                        paper_id              title  \\\n",
       "count                                     128915             114892   \n",
       "unique                                    128915             108497   \n",
       "top     7dd72bed57ec7334e414d73c55e5b2d7689b912a  Journal Pre-proof   \n",
       "freq                                           1                303   \n",
       "\n",
       "                                       authors  \\\n",
       "count                                   116450   \n",
       "unique                                  109095   \n",
       "top     ['Xxx Xxx Xxx • Volume', 'Xxx Number']   \n",
       "freq                                       118   \n",
       "\n",
       "                                                 abstract  \\\n",
       "count                                               87852   \n",
       "unique                                              85410   \n",
       "top     [\"Publisher's Note Springer Nature remains neu...   \n",
       "freq                                                   98   \n",
       "\n",
       "                                                body_text  \n",
       "count                                              128915  \n",
       "unique                                             127012  \n",
       "top     ['The nuclear receptor heterodimers of liver X...  \n",
       "freq                                                   69  "
      ]
     },
     "execution_count": 8,
     "metadata": {},
     "output_type": "execute_result"
    }
   ],
   "source": [
    "df.describe()"
   ]
  },
  {
   "cell_type": "markdown",
   "metadata": {},
   "source": [
    "preprocessing: <br>\n",
    "1. making all nan values = None <br>\n",
    "2. removing unwanted character from body text"
   ]
  },
  {
   "cell_type": "code",
   "execution_count": 20,
   "metadata": {},
   "outputs": [
    {
     "name": "stdout",
     "output_type": "stream",
     "text": [
      "<class 'str'>\n"
     ]
    }
   ],
   "source": [
    "print(type(df['body_text'][10]))\n",
    "#print(df['body_text'][10])"
   ]
  },
  {
   "cell_type": "code",
   "execution_count": 22,
   "metadata": {},
   "outputs": [
    {
     "name": "stdout",
     "output_type": "stream",
     "text": [
      "<class 'str'>\n",
      "000525b51f78000644865b63d47ac27c624c5981\n"
     ]
    }
   ],
   "source": [
    "print(type(df['paper_id'][10]))\n",
    "print(df['paper_id'][10])"
   ]
  },
  {
   "cell_type": "code",
   "execution_count": 23,
   "metadata": {},
   "outputs": [
    {
     "name": "stdout",
     "output_type": "stream",
     "text": [
      "<class 'str'>\n",
      "Journal Pre-proof Editorial: Root causes and policy dilemmas of the COVID-19 pandemic global disaster Editorial Root causes and policy dilemmas of the COVID-19 pandemic global disaster\n"
     ]
    }
   ],
   "source": [
    "print(type(df['title'][10]))\n",
    "print(df['title'][10])"
   ]
  },
  {
   "cell_type": "markdown",
   "metadata": {},
   "source": [
    "convert authors from string to list of strings"
   ]
  },
  {
   "cell_type": "code",
   "execution_count": 31,
   "metadata": {},
   "outputs": [
    {
     "name": "stdout",
     "output_type": "stream",
     "text": [
      "<class 'str'>\n",
      "'Irasema Alcántara-Ayala', 'Ian Burton', 'Allan Lavell', 'Elizabeth Mansilla', 'Andrew Maskrey', 'Anthony Oliver-Smith', 'Fernando Ramírez-Gómez', 'Alcántara-Ayala ', 'I Burton', 'A Lavell', 'E Mansilla', 'A Maskrey', 'A Oliver-Smith', 'F Ramírez', 'Fernando Ramirez'\n"
     ]
    }
   ],
   "source": [
    "print(type(df['authors'][10]))\n",
    "print(df['authors'][10][1:-1])"
   ]
  },
  {
   "cell_type": "code",
   "execution_count": 36,
   "metadata": {},
   "outputs": [
    {
     "name": "stdout",
     "output_type": "stream",
     "text": [
      "<class 'list'>\n"
     ]
    }
   ],
   "source": [
    "print(type(df['authors'][10][1:-1].split(',')))"
   ]
  },
  {
   "cell_type": "code",
   "execution_count": 78,
   "metadata": {},
   "outputs": [],
   "source": [
    "#df[df['authors'].apply(lambda x: type(x)==float)]['authors'] = \"None\""
   ]
  },
  {
   "cell_type": "code",
   "execution_count": 9,
   "metadata": {},
   "outputs": [],
   "source": [
    "#IMPORTANT\n",
    "df.loc[(df['authors'].apply(lambda x: type(x)==float)),['authors']] = 'None'\n",
    "#dfmi.loc[:, ('one', 'second')] = value\n",
    "# becomes\n",
    "#dfmi.loc.__setitem__((slice(None), ('one', 'second')), value)"
   ]
  },
  {
   "cell_type": "code",
   "execution_count": 24,
   "metadata": {},
   "outputs": [],
   "source": [
    "def change_string_to_list(x):\n",
    "    y = []\n",
    "    for i in x:\n",
    "        if not(i == 'None'):\n",
    "            i = i[1:-1].split(',')\n",
    "        y.append(i)\n",
    "    return y"
   ]
  },
  {
   "cell_type": "code",
   "execution_count": 25,
   "metadata": {},
   "outputs": [],
   "source": [
    "TEMPORARY1 = change_string_to_list(df['authors'][:10])"
   ]
  },
  {
   "cell_type": "code",
   "execution_count": 27,
   "metadata": {},
   "outputs": [
    {
     "data": {
      "text/plain": [
       "list"
      ]
     },
     "execution_count": 27,
     "metadata": {},
     "output_type": "execute_result"
    }
   ],
   "source": [
    "type(TEMPORARY1[1])"
   ]
  },
  {
   "cell_type": "markdown",
   "metadata": {},
   "source": [
    "converting all nan values in abstract to None"
   ]
  },
  {
   "cell_type": "code",
   "execution_count": 13,
   "metadata": {},
   "outputs": [
    {
     "data": {
      "text/plain": [
       "float"
      ]
     },
     "execution_count": 13,
     "metadata": {},
     "output_type": "execute_result"
    }
   ],
   "source": [
    "type(df['abstract'][0])"
   ]
  },
  {
   "cell_type": "code",
   "execution_count": 43,
   "metadata": {},
   "outputs": [
    {
     "data": {
      "text/plain": [
       "nan"
      ]
     },
     "execution_count": 43,
     "metadata": {},
     "output_type": "execute_result"
    }
   ],
   "source": [
    "df['abstract'][0]"
   ]
  },
  {
   "cell_type": "code",
   "execution_count": 14,
   "metadata": {},
   "outputs": [],
   "source": [
    "df.loc[(df['abstract'].apply(lambda x: type(x)==float)),['abstract']] = 'None'"
   ]
  },
  {
   "cell_type": "code",
   "execution_count": 15,
   "metadata": {},
   "outputs": [
    {
     "data": {
      "text/html": [
       "<div>\n",
       "<style scoped>\n",
       "    .dataframe tbody tr th:only-of-type {\n",
       "        vertical-align: middle;\n",
       "    }\n",
       "\n",
       "    .dataframe tbody tr th {\n",
       "        vertical-align: top;\n",
       "    }\n",
       "\n",
       "    .dataframe thead th {\n",
       "        text-align: right;\n",
       "    }\n",
       "</style>\n",
       "<table border=\"1\" class=\"dataframe\">\n",
       "  <thead>\n",
       "    <tr style=\"text-align: right;\">\n",
       "      <th></th>\n",
       "      <th>paper_id</th>\n",
       "      <th>title</th>\n",
       "      <th>authors</th>\n",
       "      <th>abstract</th>\n",
       "      <th>body_text</th>\n",
       "    </tr>\n",
       "  </thead>\n",
       "  <tbody>\n",
       "  </tbody>\n",
       "</table>\n",
       "</div>"
      ],
      "text/plain": [
       "Empty DataFrame\n",
       "Columns: [paper_id, title, authors, abstract, body_text]\n",
       "Index: []"
      ]
     },
     "execution_count": 15,
     "metadata": {},
     "output_type": "execute_result"
    }
   ],
   "source": [
    "df[df['abstract'].apply(lambda x: type(x)==float)]"
   ]
  },
  {
   "cell_type": "markdown",
   "metadata": {},
   "source": [
    "making all nan in title to be None"
   ]
  },
  {
   "cell_type": "code",
   "execution_count": 16,
   "metadata": {},
   "outputs": [],
   "source": [
    "df.loc[(df['title'].apply(lambda x: type(x)==float)),['title']] = 'None'"
   ]
  },
  {
   "cell_type": "code",
   "execution_count": 17,
   "metadata": {},
   "outputs": [
    {
     "data": {
      "text/html": [
       "<div>\n",
       "<style scoped>\n",
       "    .dataframe tbody tr th:only-of-type {\n",
       "        vertical-align: middle;\n",
       "    }\n",
       "\n",
       "    .dataframe tbody tr th {\n",
       "        vertical-align: top;\n",
       "    }\n",
       "\n",
       "    .dataframe thead th {\n",
       "        text-align: right;\n",
       "    }\n",
       "</style>\n",
       "<table border=\"1\" class=\"dataframe\">\n",
       "  <thead>\n",
       "    <tr style=\"text-align: right;\">\n",
       "      <th></th>\n",
       "      <th>paper_id</th>\n",
       "      <th>title</th>\n",
       "      <th>authors</th>\n",
       "      <th>abstract</th>\n",
       "      <th>body_text</th>\n",
       "    </tr>\n",
       "  </thead>\n",
       "  <tbody>\n",
       "  </tbody>\n",
       "</table>\n",
       "</div>"
      ],
      "text/plain": [
       "Empty DataFrame\n",
       "Columns: [paper_id, title, authors, abstract, body_text]\n",
       "Index: []"
      ]
     },
     "execution_count": 17,
     "metadata": {},
     "output_type": "execute_result"
    }
   ],
   "source": [
    "df[df['title'].apply(lambda x: type(x)==float)]"
   ]
  },
  {
   "cell_type": "markdown",
   "metadata": {},
   "source": [
    "removing unnecessary characters in our body text"
   ]
  },
  {
   "cell_type": "code",
   "execution_count": 18,
   "metadata": {},
   "outputs": [],
   "source": [
    "import re"
   ]
  },
  {
   "cell_type": "code",
   "execution_count": 19,
   "metadata": {},
   "outputs": [
    {
     "data": {
      "text/html": [
       "<div>\n",
       "<style scoped>\n",
       "    .dataframe tbody tr th:only-of-type {\n",
       "        vertical-align: middle;\n",
       "    }\n",
       "\n",
       "    .dataframe tbody tr th {\n",
       "        vertical-align: top;\n",
       "    }\n",
       "\n",
       "    .dataframe thead th {\n",
       "        text-align: right;\n",
       "    }\n",
       "</style>\n",
       "<table border=\"1\" class=\"dataframe\">\n",
       "  <thead>\n",
       "    <tr style=\"text-align: right;\">\n",
       "      <th></th>\n",
       "      <th>paper_id</th>\n",
       "      <th>title</th>\n",
       "      <th>authors</th>\n",
       "      <th>abstract</th>\n",
       "      <th>body_text</th>\n",
       "    </tr>\n",
       "  </thead>\n",
       "  <tbody>\n",
       "  </tbody>\n",
       "</table>\n",
       "</div>"
      ],
      "text/plain": [
       "Empty DataFrame\n",
       "Columns: [paper_id, title, authors, abstract, body_text]\n",
       "Index: []"
      ]
     },
     "execution_count": 19,
     "metadata": {},
     "output_type": "execute_result"
    }
   ],
   "source": [
    "df[df['body_text'].apply(lambda x: type(x) != str)]\n",
    "# all are of type string "
   ]
  },
  {
   "cell_type": "code",
   "execution_count": 174,
   "metadata": {},
   "outputs": [],
   "source": [
    "mystring = df['body_text'][100]\n",
    "#mystring"
   ]
  },
  {
   "cell_type": "code",
   "execution_count": 175,
   "metadata": {},
   "outputs": [],
   "source": [
    "mystring1 = re.sub(r'[^A-Za-z]+', ' ', mystring)\n",
    "#mystring1"
   ]
  },
  {
   "cell_type": "code",
   "execution_count": 176,
   "metadata": {},
   "outputs": [],
   "source": [
    "mystring2 = re.sub(r\"\\[[^a-z]*?\\]\\'\\\"|\\\\|\\([0-9]*\\)\",' ',mystring)\n",
    "#mystring2"
   ]
  },
  {
   "cell_type": "markdown",
   "metadata": {},
   "source": [
    "this is the function used to remove all unwanted text in the df body, like numbers, symbols, urls, etc."
   ]
  },
  {
   "cell_type": "code",
   "execution_count": 92,
   "metadata": {},
   "outputs": [],
   "source": [
    "#IMPORTANT\n",
    "def substitute_body(x):\n",
    "    \n",
    "    regex = r'[^A-Za-z]|\\n|http\\S+' #everything except words [^A-Za-z]|\\n|http\\S+\n",
    "    #regex1 = r'http\\S+' #urls\n",
    "    #regex2 = r'\\n' #extra lines\n",
    "    test_str = x\n",
    "    substitute = \" \"\n",
    "    result = re.sub(regex, substitute, test_str, 0, re.MULTILINE)\n",
    "    #result = re.sub(regex1, substitute, test_str, 0, re.MULTILINE)\n",
    "    #result = re.sub(regex2, substitute, test_str, 0, re.MULTILINE)\n",
    "    if result:\n",
    "        return (result)"
   ]
  },
  {
   "cell_type": "code",
   "execution_count": 177,
   "metadata": {},
   "outputs": [],
   "source": [
    "ans = df['body_text'][125]+\"http://hello.com\"\n",
    "#ans\n",
    "#substitute_body(ans)"
   ]
  },
  {
   "cell_type": "code",
   "execution_count": 149,
   "metadata": {},
   "outputs": [],
   "source": [
    "#IMPORTANT\n",
    "df['body_text'] = df['body_text'].apply(lambda x: substitute_body(x))"
   ]
  },
  {
   "cell_type": "code",
   "execution_count": 178,
   "metadata": {},
   "outputs": [],
   "source": [
    "#df['body_text'][125]"
   ]
  },
  {
   "cell_type": "code",
   "execution_count": null,
   "metadata": {},
   "outputs": [],
   "source": []
  },
  {
   "cell_type": "code",
   "execution_count": 152,
   "metadata": {},
   "outputs": [],
   "source": [
    "# saving updated csv\n",
    "df.to_csv('clean_full.csv', index = False)"
   ]
  },
  {
   "cell_type": "code",
   "execution_count": 153,
   "metadata": {},
   "outputs": [],
   "source": [
    "df_call = pd.read_csv('clean_full.csv')"
   ]
  },
  {
   "cell_type": "code",
   "execution_count": 154,
   "metadata": {},
   "outputs": [
    {
     "data": {
      "text/html": [
       "<div>\n",
       "<style scoped>\n",
       "    .dataframe tbody tr th:only-of-type {\n",
       "        vertical-align: middle;\n",
       "    }\n",
       "\n",
       "    .dataframe tbody tr th {\n",
       "        vertical-align: top;\n",
       "    }\n",
       "\n",
       "    .dataframe thead th {\n",
       "        text-align: right;\n",
       "    }\n",
       "</style>\n",
       "<table border=\"1\" class=\"dataframe\">\n",
       "  <thead>\n",
       "    <tr style=\"text-align: right;\">\n",
       "      <th></th>\n",
       "      <th>paper_id</th>\n",
       "      <th>title</th>\n",
       "      <th>authors</th>\n",
       "      <th>abstract</th>\n",
       "      <th>body_text</th>\n",
       "    </tr>\n",
       "  </thead>\n",
       "  <tbody>\n",
       "    <tr>\n",
       "      <th>0</th>\n",
       "      <td>0000028b5cc154f68b8a269f6578f21e31f62977</td>\n",
       "      <td>\"Multi-faceted\" COVID-19: Russian experience</td>\n",
       "      <td>None</td>\n",
       "      <td>None</td>\n",
       "      <td>According to current live statistics at the t...</td>\n",
       "    </tr>\n",
       "    <tr>\n",
       "      <th>1</th>\n",
       "      <td>0001418189999fea7f7cbe3e82703d71c85a6fe5</td>\n",
       "      <td>Absence of surface expression of feline infect...</td>\n",
       "      <td>['E Cornelissen', 'H Dewerchin', 'E Hamme', 'H...</td>\n",
       "      <td>['Feline infectious peritonitis virus (FIPV) p...</td>\n",
       "      <td>Feline infectious peritonitis FIP is a fatal ...</td>\n",
       "    </tr>\n",
       "    <tr>\n",
       "      <th>2</th>\n",
       "      <td>00033d5a12240a8684cfe943954132b43434cf48</td>\n",
       "      <td>Detection of Severe Acute Respiratory Syndrome...</td>\n",
       "      <td>['Petra Wandernoth', 'Katharina Kriegsmann', '...</td>\n",
       "      <td>['Background: Amplification of viral ribonucle...</td>\n",
       "      <td>Severe acute respiratory syndrome coronavirus...</td>\n",
       "    </tr>\n",
       "    <tr>\n",
       "      <th>3</th>\n",
       "      <td>0003793cf9e709bc2b9d0c8111186f78fb73fc04</td>\n",
       "      <td>Title: Rethinking high-risk groups in COVID-19</td>\n",
       "      <td>['Anastasia Vishnevetsky', 'Michael Levy']</td>\n",
       "      <td>None</td>\n",
       "      <td>How do we protect our high risk patient popul...</td>\n",
       "    </tr>\n",
       "    <tr>\n",
       "      <th>4</th>\n",
       "      <td>000379d7a7f37a2ccb978862b9f2016bd03259ea</td>\n",
       "      <td>ScienceDirect ScienceDirect Effect of Nanomate...</td>\n",
       "      <td>['Harish Devaraj', 'Rajiv Malhotra']</td>\n",
       "      <td>['approach. The NM shape in the conformal circ...</td>\n",
       "      <td>Integration of functional electronic devices ...</td>\n",
       "    </tr>\n",
       "    <tr>\n",
       "      <th>5</th>\n",
       "      <td>00039b94e6cb7609ecbddee1755314bcfeb77faa</td>\n",
       "      <td>Plasma inflammatory cytokines and chemokines i...</td>\n",
       "      <td>['W Lam', 'C Wong', 'C Lam', 'A Wu', 'W Ip', '...</td>\n",
       "      <td>['Severe acute respiratory syndrome (SARS) is ...</td>\n",
       "      <td>Severe acute respiratory syndrome SARS is a r...</td>\n",
       "    </tr>\n",
       "    <tr>\n",
       "      <th>6</th>\n",
       "      <td>0003ddc51c4291d742855e9ac56076a3bea33ad7</td>\n",
       "      <td>Journal Pre-proofs The Fire This Time: The Str...</td>\n",
       "      <td>['Olusola Ajilore', 'April Thames']</td>\n",
       "      <td>None</td>\n",
       "      <td>It is said that crisis reveals character The ...</td>\n",
       "    </tr>\n",
       "    <tr>\n",
       "      <th>7</th>\n",
       "      <td>0003ddfb7ce19bcb3f38907f69676163b9863535</td>\n",
       "      <td>None</td>\n",
       "      <td>['Allan De Guzman', 'Darwin Angcahan']</td>\n",
       "      <td>[\"The value of professional identity is an int...</td>\n",
       "      <td>Considered as the most important asset in the...</td>\n",
       "    </tr>\n",
       "    <tr>\n",
       "      <th>8</th>\n",
       "      <td>0004456994f6c1d5db7327990386d33c01cff32a</td>\n",
       "      <td>None</td>\n",
       "      <td>['Chris Williams', 'Brunhilde Schweiger', 'Gen...</td>\n",
       "      <td>['Background: Influenza immunisation for healt...</td>\n",
       "      <td>The German standing commission for immunisati...</td>\n",
       "    </tr>\n",
       "    <tr>\n",
       "      <th>9</th>\n",
       "      <td>0004774b55eb0dad880aba9b572efe362660c5e0</td>\n",
       "      <td>Disaster Perceptions</td>\n",
       "      <td>None</td>\n",
       "      <td>None</td>\n",
       "      <td>So if there is no singular definition of risk...</td>\n",
       "    </tr>\n",
       "  </tbody>\n",
       "</table>\n",
       "</div>"
      ],
      "text/plain": [
       "                                   paper_id  \\\n",
       "0  0000028b5cc154f68b8a269f6578f21e31f62977   \n",
       "1  0001418189999fea7f7cbe3e82703d71c85a6fe5   \n",
       "2  00033d5a12240a8684cfe943954132b43434cf48   \n",
       "3  0003793cf9e709bc2b9d0c8111186f78fb73fc04   \n",
       "4  000379d7a7f37a2ccb978862b9f2016bd03259ea   \n",
       "5  00039b94e6cb7609ecbddee1755314bcfeb77faa   \n",
       "6  0003ddc51c4291d742855e9ac56076a3bea33ad7   \n",
       "7  0003ddfb7ce19bcb3f38907f69676163b9863535   \n",
       "8  0004456994f6c1d5db7327990386d33c01cff32a   \n",
       "9  0004774b55eb0dad880aba9b572efe362660c5e0   \n",
       "\n",
       "                                               title  \\\n",
       "0       \"Multi-faceted\" COVID-19: Russian experience   \n",
       "1  Absence of surface expression of feline infect...   \n",
       "2  Detection of Severe Acute Respiratory Syndrome...   \n",
       "3     Title: Rethinking high-risk groups in COVID-19   \n",
       "4  ScienceDirect ScienceDirect Effect of Nanomate...   \n",
       "5  Plasma inflammatory cytokines and chemokines i...   \n",
       "6  Journal Pre-proofs The Fire This Time: The Str...   \n",
       "7                                               None   \n",
       "8                                               None   \n",
       "9                               Disaster Perceptions   \n",
       "\n",
       "                                             authors  \\\n",
       "0                                               None   \n",
       "1  ['E Cornelissen', 'H Dewerchin', 'E Hamme', 'H...   \n",
       "2  ['Petra Wandernoth', 'Katharina Kriegsmann', '...   \n",
       "3         ['Anastasia Vishnevetsky', 'Michael Levy']   \n",
       "4               ['Harish Devaraj', 'Rajiv Malhotra']   \n",
       "5  ['W Lam', 'C Wong', 'C Lam', 'A Wu', 'W Ip', '...   \n",
       "6                ['Olusola Ajilore', 'April Thames']   \n",
       "7             ['Allan De Guzman', 'Darwin Angcahan']   \n",
       "8  ['Chris Williams', 'Brunhilde Schweiger', 'Gen...   \n",
       "9                                               None   \n",
       "\n",
       "                                            abstract  \\\n",
       "0                                               None   \n",
       "1  ['Feline infectious peritonitis virus (FIPV) p...   \n",
       "2  ['Background: Amplification of viral ribonucle...   \n",
       "3                                               None   \n",
       "4  ['approach. The NM shape in the conformal circ...   \n",
       "5  ['Severe acute respiratory syndrome (SARS) is ...   \n",
       "6                                               None   \n",
       "7  [\"The value of professional identity is an int...   \n",
       "8  ['Background: Influenza immunisation for healt...   \n",
       "9                                               None   \n",
       "\n",
       "                                           body_text  \n",
       "0   According to current live statistics at the t...  \n",
       "1   Feline infectious peritonitis FIP is a fatal ...  \n",
       "2   Severe acute respiratory syndrome coronavirus...  \n",
       "3   How do we protect our high risk patient popul...  \n",
       "4   Integration of functional electronic devices ...  \n",
       "5   Severe acute respiratory syndrome SARS is a r...  \n",
       "6   It is said that crisis reveals character The ...  \n",
       "7   Considered as the most important asset in the...  \n",
       "8   The German standing commission for immunisati...  \n",
       "9   So if there is no singular definition of risk...  "
      ]
     },
     "execution_count": 154,
     "metadata": {},
     "output_type": "execute_result"
    }
   ],
   "source": [
    "df_call.head(10)"
   ]
  },
  {
   "cell_type": "code",
   "execution_count": 156,
   "metadata": {},
   "outputs": [
    {
     "data": {
      "text/plain": [
       "' Multi faceted  COVID     Russian experience'"
      ]
     },
     "execution_count": 156,
     "metadata": {},
     "output_type": "execute_result"
    }
   ],
   "source": [
    "substitute_body(df['title'][0])"
   ]
  },
  {
   "cell_type": "code",
   "execution_count": 164,
   "metadata": {},
   "outputs": [
    {
     "data": {
      "text/plain": [
       "str"
      ]
     },
     "execution_count": 164,
     "metadata": {},
     "output_type": "execute_result"
    }
   ],
   "source": [
    "type(df_call['body_text'][1])"
   ]
  },
  {
   "cell_type": "code",
   "execution_count": 162,
   "metadata": {},
   "outputs": [
    {
     "data": {
      "text/plain": [
       "\"['E Cornelissen', 'H Dewerchin', 'E Hamme', 'H Nauwynck']\""
      ]
     },
     "execution_count": 162,
     "metadata": {},
     "output_type": "execute_result"
    }
   ],
   "source": [
    "df_call['authors'][1]"
   ]
  },
  {
   "cell_type": "markdown",
   "metadata": {},
   "source": [
    "testing regex strings"
   ]
  },
  {
   "cell_type": "code",
   "execution_count": 185,
   "metadata": {},
   "outputs": [
    {
     "name": "stdout",
     "output_type": "stream",
     "text": [
      "[\"It is said that crisis reveals character. The COVID-19 pandemic has revealed the inequitable character of the U.S. health care system by the alarming death rates among African Americans with COVID-19. Nationwide, African Americans represent a third of hospitalized COVID-19 patients but make up only 13% of the U.S. population. In Chicago, one of the nation's hotspots, African American make up 42% of the cases and 56% of the deaths from the virus 1 There are several pathways that contribute to racial disparities in COVID-19 cases and death.\", 'First, we must consider biological underpinnings that are specific to COVID-19. Angiotensin-Converting Enzyme 2   is the entry receptor utilized by COVID-19 and is thought to negatively regulate the activated renin-angiotensin system by diverting the generation of vasoconstrictor angiotensin II   towards the inactive Ang 1-9 and vasodilatatory Ang 1-7 peptides. A few studies have found racial differences in ACE2 activity, showing African Americans produce higher levels of AngII and demonstrate lower ACE2 activity 3 . Studies have shown that downregulation of ACE2 expression is involved in lung pathology after SARS-CoV infection and elevations in AngII have been directly related to COVID-19 severity 4 . Hence, dysregulation of the renin-angiotensin system may place African Americans at disproportionate risk for severe COVID-19 outcomes.', 'The second, and perhaps most critical factor, relates to health disparities. African Americans disproportionally account for >45% of vascular-related diseases and are 37% more likely to develop lung cancer than whites, despite lower exposure to cigarette smoke. Social determinant factors like economic stability, education, and the environment directly impact issues related to access and quality of health care, which fuel health disparities. Furthermore, there is evidence of medical bias in the testing and treatment of African-American with COVID-', 'We must ask ourselves, \"Why do these social inequities persist despite decades of scientific evidence showing its damaging effects on health?\" We believe the answer lies in a close examination of structural forms of racism and discrimination towards African Americans.', 'Historically, African Americans have been a target group for racism and discrimination which has created a deep mistrust for societal systems -often undermined as \"paranoia.\" Specific to COVID-19, African Americans are overrepresented in \"essential\" jobs, therefore, employment may interfere with the ability to stay at home and social distance. We must not forget that stay at home orders and social distancing carries an assumption of socioeconomic privilege  .', 'COVID-19 has brought these longstanding issues to light in a stark way. What is less appreciated are the biological consequences of structural racism and discrimination. Increasing evidence support the effects of racial discrimination on biological function. First, altered immune function, hypothalamic-pituitary axis   dysfunction, and metabolic changes secondary to stress can contribute to medical co-morbidities such as type 2 diabetes, hypertension and asthma, all of which increase COVID-19 risk. Everyday discrimination is a stressor that has been linked to poor health, inflammation, and premature cellular aging 6 . Hence, discrimination experiences may also explain why African Americans are at a disproportionately higher risk for poor medical   and psychiatric outcomes  .', 'Disparities in health outcomes may also reflect dysfunctions in the body \n"
     ]
    }
   ],
   "source": [
    "import re\n",
    "\n",
    "regex = r\"\\\\[^[]*?\\]|\\\\|\\([^()]*\\)\"\n",
    "\n",
    "test_str = df.body_text[6]\n",
    "subst = \" \"\n",
    "\n",
    "# You can manually specify the number of replacements by changing the 4th argument\n",
    "result = re.sub(regex, subst, test_str, 0, re.MULTILINE)\n",
    "\n",
    "if result:\n",
    "    print (result)\n",
    "#\\[[^a-z]*?\\]|\\\\|\\)|\\("
   ]
  },
  {
   "cell_type": "markdown",
   "metadata": {},
   "source": [
    "## EDA"
   ]
  },
  {
   "cell_type": "code",
   "execution_count": 31,
   "metadata": {},
   "outputs": [
    {
     "data": {
      "text/plain": [
       "[\"'E Cornelissen'\", \" 'H Dewerchin'\", \" 'E Hamme'\", \" 'H Nauwynck'\"]"
      ]
     },
     "execution_count": 31,
     "metadata": {},
     "output_type": "execute_result"
    }
   ],
   "source": [
    "df['authors'][1]"
   ]
  },
  {
   "cell_type": "code",
   "execution_count": 28,
   "metadata": {},
   "outputs": [],
   "source": [
    "df['authors'] = change_string_to_list(df['authors'])"
   ]
  },
  {
   "cell_type": "code",
   "execution_count": 30,
   "metadata": {},
   "outputs": [
    {
     "data": {
      "text/plain": [
       "4"
      ]
     },
     "execution_count": 30,
     "metadata": {},
     "output_type": "execute_result"
    }
   ],
   "source": [
    "len(df['authors'][1])"
   ]
  },
  {
   "cell_type": "code",
   "execution_count": 36,
   "metadata": {},
   "outputs": [],
   "source": [
    "#removing null values of authors and visualizing number of authors\n",
    "authors_df = df[df['authors']!='None']"
   ]
  },
  {
   "cell_type": "code",
   "execution_count": 37,
   "metadata": {},
   "outputs": [
    {
     "name": "stderr",
     "output_type": "stream",
     "text": [
      "<ipython-input-37-260ebbb2106a>:1: SettingWithCopyWarning: \n",
      "A value is trying to be set on a copy of a slice from a DataFrame.\n",
      "Try using .loc[row_indexer,col_indexer] = value instead\n",
      "\n",
      "See the caveats in the documentation: https://pandas.pydata.org/pandas-docs/stable/user_guide/indexing.html#returning-a-view-versus-a-copy\n",
      "  authors_df['author_count'] = authors_df['authors'].apply(lambda x: len(x))\n"
     ]
    }
   ],
   "source": [
    "authors_df['author_count'] = authors_df['authors'].apply(lambda x: len(x))"
   ]
  },
  {
   "cell_type": "code",
   "execution_count": 45,
   "metadata": {},
   "outputs": [
    {
     "data": {
      "text/plain": [
       "3      14374\n",
       "2      14275\n",
       "4      13031\n",
       "5      11300\n",
       "1       9719\n",
       "       ...  \n",
       "110        1\n",
       "135        1\n",
       "366        1\n",
       "111        1\n",
       "155        1\n",
       "Name: author_count, Length: 161, dtype: int64"
      ]
     },
     "execution_count": 45,
     "metadata": {},
     "output_type": "execute_result"
    }
   ],
   "source": [
    "authors_df['author_count'].value_counts()"
   ]
  },
  {
   "cell_type": "code",
   "execution_count": 46,
   "metadata": {},
   "outputs": [
    {
     "name": "stderr",
     "output_type": "stream",
     "text": [
      "C:\\Users\\chopr\\anaconda3\\lib\\site-packages\\seaborn\\_decorators.py:36: FutureWarning: Pass the following variable as a keyword arg: x. From version 0.12, the only valid positional argument will be `data`, and passing other arguments without an explicit keyword will result in an error or misinterpretation.\n",
      "  warnings.warn(\n"
     ]
    },
    {
     "data": {
      "text/plain": [
       "<AxesSubplot:xlabel='author_count'>"
      ]
     },
     "execution_count": 46,
     "metadata": {},
     "output_type": "execute_result"
    },
    {
     "data": {
      "image/png": "[encoded data removed]",
      "text/plain": [
       "<Figure size 432x288 with 1 Axes>"
      ]
     },
     "metadata": {
      "needs_background": "light"
     },
     "output_type": "display_data"
    }
   ],
   "source": [
    "sns.boxplot(authors_df['author_count'])"
   ]
  },
  {
   "cell_type": "code",
   "execution_count": 49,
   "metadata": {
    "scrolled": false
   },
   "outputs": [
    {
     "data": {
      "text/html": [
       "<div>\n",
       "<style scoped>\n",
       "    .dataframe tbody tr th:only-of-type {\n",
       "        vertical-align: middle;\n",
       "    }\n",
       "\n",
       "    .dataframe tbody tr th {\n",
       "        vertical-align: top;\n",
       "    }\n",
       "\n",
       "    .dataframe thead th {\n",
       "        text-align: right;\n",
       "    }\n",
       "</style>\n",
       "<table border=\"1\" class=\"dataframe\">\n",
       "  <thead>\n",
       "    <tr style=\"text-align: right;\">\n",
       "      <th></th>\n",
       "      <th>author_count</th>\n",
       "    </tr>\n",
       "  </thead>\n",
       "  <tbody>\n",
       "    <tr>\n",
       "      <th>count</th>\n",
       "      <td>116450.000000</td>\n",
       "    </tr>\n",
       "    <tr>\n",
       "      <th>mean</th>\n",
       "      <td>7.232684</td>\n",
       "    </tr>\n",
       "    <tr>\n",
       "      <th>std</th>\n",
       "      <td>8.820640</td>\n",
       "    </tr>\n",
       "    <tr>\n",
       "      <th>min</th>\n",
       "      <td>1.000000</td>\n",
       "    </tr>\n",
       "    <tr>\n",
       "      <th>25%</th>\n",
       "      <td>3.000000</td>\n",
       "    </tr>\n",
       "    <tr>\n",
       "      <th>50%</th>\n",
       "      <td>5.000000</td>\n",
       "    </tr>\n",
       "    <tr>\n",
       "      <th>75%</th>\n",
       "      <td>9.000000</td>\n",
       "    </tr>\n",
       "    <tr>\n",
       "      <th>max</th>\n",
       "      <td>415.000000</td>\n",
       "    </tr>\n",
       "  </tbody>\n",
       "</table>\n",
       "</div>"
      ],
      "text/plain": [
       "        author_count\n",
       "count  116450.000000\n",
       "mean        7.232684\n",
       "std         8.820640\n",
       "min         1.000000\n",
       "25%         3.000000\n",
       "50%         5.000000\n",
       "75%         9.000000\n",
       "max       415.000000"
      ]
     },
     "execution_count": 49,
     "metadata": {},
     "output_type": "execute_result"
    }
   ],
   "source": [
    "authors_df.describe()"
   ]
  },
  {
   "cell_type": "code",
   "execution_count": 73,
   "metadata": {},
   "outputs": [],
   "source": [
    "i = authors_df[authors_df['author_count']>30].index"
   ]
  },
  {
   "cell_type": "code",
   "execution_count": 74,
   "metadata": {},
   "outputs": [],
   "source": [
    "authors_df = authors_df.drop(i,axis=0)"
   ]
  },
  {
   "cell_type": "code",
   "execution_count": 84,
   "metadata": {},
   "outputs": [
    {
     "data": {
      "text/plain": [
       "3     14374\n",
       "2     14275\n",
       "4     13031\n",
       "5     11300\n",
       "1      9719\n",
       "6      9514\n",
       "7      7632\n",
       "8      6327\n",
       "9      5064\n",
       "10     4291\n",
       "11     3237\n",
       "12     2687\n",
       "13     2082\n",
       "14     1769\n",
       "15     1433\n",
       "16     1167\n",
       "17      996\n",
       "18      856\n",
       "19      695\n",
       "20      642\n",
       "21      537\n",
       "23      441\n",
       "22      438\n",
       "24      379\n",
       "25      335\n",
       "26      274\n",
       "27      238\n",
       "28      236\n",
       "29      211\n",
       "30      200\n",
       "Name: author_count, dtype: int64"
      ]
     },
     "execution_count": 84,
     "metadata": {},
     "output_type": "execute_result"
    }
   ],
   "source": [
    "authors_df['author_count'].value_counts()"
   ]
  },
  {
   "cell_type": "code",
   "execution_count": 83,
   "metadata": {},
   "outputs": [
    {
     "data": {
      "text/html": [
       "<div>\n",
       "<style scoped>\n",
       "    .dataframe tbody tr th:only-of-type {\n",
       "        vertical-align: middle;\n",
       "    }\n",
       "\n",
       "    .dataframe tbody tr th {\n",
       "        vertical-align: top;\n",
       "    }\n",
       "\n",
       "    .dataframe thead th {\n",
       "        text-align: right;\n",
       "    }\n",
       "</style>\n",
       "<table border=\"1\" class=\"dataframe\">\n",
       "  <thead>\n",
       "    <tr style=\"text-align: right;\">\n",
       "      <th></th>\n",
       "      <th>paper_id</th>\n",
       "      <th>title</th>\n",
       "      <th>authors</th>\n",
       "      <th>abstract</th>\n",
       "      <th>body_text</th>\n",
       "      <th>author_count</th>\n",
       "    </tr>\n",
       "  </thead>\n",
       "  <tbody>\n",
       "    <tr>\n",
       "      <th>1372</th>\n",
       "      <td>02c21bef8cc81d14e19c41cf4888c48282cf2ba0</td>\n",
       "      <td>Rapid community-driven development of a SARS- ...</td>\n",
       "      <td>['Michael Getz',  'Yafei Wang',  'Gary An',  '...</td>\n",
       "      <td>['The 2019 novel coronavirus, SARS-CoV-2, is a...</td>\n",
       "      <td>[\"The ongoing pandemic caused by the novel sev...</td>\n",
       "      <td>30</td>\n",
       "    </tr>\n",
       "    <tr>\n",
       "      <th>1910</th>\n",
       "      <td>03c90897f5a28bb42fe7344bb4477f3bd5a23336</td>\n",
       "      <td>COVID-19 and Older People in Asia: AWGS Calls ...</td>\n",
       "      <td>['Wee-Shiong Lim',  'Chih-Kuang Liang',  'Pras...</td>\n",
       "      <td>['Japan 11 Health Promotion Administration, Mi...</td>\n",
       "      <td>['The coronavirus disease 2019 pandemic has ev...</td>\n",
       "      <td>30</td>\n",
       "    </tr>\n",
       "    <tr>\n",
       "      <th>2307</th>\n",
       "      <td>04908565dc76425cc6a3fabc1dff0bce3860e3c2</td>\n",
       "      <td>Drivers for emerging issues in animal and plan...</td>\n",
       "      <td>['Jane Richardson',  'Caryl Lockhart',  'Stefa...</td>\n",
       "      <td>[\"The history of agriculture includes many ani...</td>\n",
       "      <td>['An emerging risk to plant, animal and/or hum...</td>\n",
       "      <td>30</td>\n",
       "    </tr>\n",
       "    <tr>\n",
       "      <th>2330</th>\n",
       "      <td>049d8ffa365d675b67e91d8516944e3180bf7df9</td>\n",
       "      <td>Decreased T cell populations contribute to the...</td>\n",
       "      <td>['Rui Liu',  'Ying Wang',  'Jie Li',  'Huan Ha...</td>\n",
       "      <td>['# These authors contributed equally to the w...</td>\n",
       "      <td>[\"The COVID-19 is highly contagious and its pa...</td>\n",
       "      <td>30</td>\n",
       "    </tr>\n",
       "    <tr>\n",
       "      <th>3715</th>\n",
       "      <td>075a0ff49cd29302e4d895155fe769f571b2871f</td>\n",
       "      <td>Exploring an Integrative Therapy for Treating ...</td>\n",
       "      <td>['Jia-Bo Wang',  'Wang Zhong-Xia',  'Jing Jing...</td>\n",
       "      <td>['number of patients with a new type of pneumo...</td>\n",
       "      <td>['respiratory illnesses that can lead to acute...</td>\n",
       "      <td>30</td>\n",
       "    </tr>\n",
       "    <tr>\n",
       "      <th>...</th>\n",
       "      <td>...</td>\n",
       "      <td>...</td>\n",
       "      <td>...</td>\n",
       "      <td>...</td>\n",
       "      <td>...</td>\n",
       "      <td>...</td>\n",
       "    </tr>\n",
       "    <tr>\n",
       "      <th>125789</th>\n",
       "      <td>f9cf27a10df8349bb5787688c6c82bbc598c3bc0</td>\n",
       "      <td>No evidence of clinical efficacy of hydroxychl...</td>\n",
       "      <td>['Matthieu Mahévas',  'Viet-Thi Tran',  'Mathi...</td>\n",
       "      <td>['Treatments are urgently needed to prevent re...</td>\n",
       "      <td>['The WHO-declared pandemic of severe acute re...</td>\n",
       "      <td>30</td>\n",
       "    </tr>\n",
       "    <tr>\n",
       "      <th>126696</th>\n",
       "      <td>fb8effe32fb79abcbb332960089ef6d3c5d3eead</td>\n",
       "      <td>Inter-country variability over time in the mor...</td>\n",
       "      <td>['Oscar Peñuelas',  'Alfonso Muriel',  'Victor...</td>\n",
       "      <td>['Purpose: Variations in clinical characterist...</td>\n",
       "      <td>['The management of mechanically ventilated pa...</td>\n",
       "      <td>30</td>\n",
       "    </tr>\n",
       "    <tr>\n",
       "      <th>126964</th>\n",
       "      <td>fc11dc20545fe3c977474443ae533a44d851e24c</td>\n",
       "      <td>Saturday 5 April -Respiratory Nurses SIG Oral ...</td>\n",
       "      <td>['S Mahadev',  'C Htun',  'C Salome',  'G King...</td>\n",
       "      <td>['Expiratory fl ow limitation (EFL) during tid...</td>\n",
       "      <td>['Patients with non-eosinophilic asthma (NEA) ...</td>\n",
       "      <td>30</td>\n",
       "    </tr>\n",
       "    <tr>\n",
       "      <th>127092</th>\n",
       "      <td>fc5150277fa072b2e602e5fdf301c4962b033936</td>\n",
       "      <td>Impaired type I interferon activity and exacer...</td>\n",
       "      <td>['Jérôme Hadjadj',  'Nader Yatim',  'Laura Bar...</td>\n",
       "      <td>['already caused more than 100,000 deaths worl...</td>\n",
       "      <td>['Early clinical descriptions of the first SAR...</td>\n",
       "      <td>30</td>\n",
       "    </tr>\n",
       "    <tr>\n",
       "      <th>128126</th>\n",
       "      <td>fe69509685601688d0e72ba750b516016a00aa4e</td>\n",
       "      <td>Pathophysiological Basis and Rationale for Ear...</td>\n",
       "      <td>['Peter Mccullough',  'Ronan Kelly',  'Gaetano...</td>\n",
       "      <td>['Approximately 9 months of the SARS-CoV-2 vir...</td>\n",
       "      <td>['The pandemic of SARS-CoV-2 (COVID- 19) , is ...</td>\n",
       "      <td>30</td>\n",
       "    </tr>\n",
       "  </tbody>\n",
       "</table>\n",
       "<p>200 rows × 6 columns</p>\n",
       "</div>"
      ],
      "text/plain": [
       "                                        paper_id  \\\n",
       "1372    02c21bef8cc81d14e19c41cf4888c48282cf2ba0   \n",
       "1910    03c90897f5a28bb42fe7344bb4477f3bd5a23336   \n",
       "2307    04908565dc76425cc6a3fabc1dff0bce3860e3c2   \n",
       "2330    049d8ffa365d675b67e91d8516944e3180bf7df9   \n",
       "3715    075a0ff49cd29302e4d895155fe769f571b2871f   \n",
       "...                                          ...   \n",
       "125789  f9cf27a10df8349bb5787688c6c82bbc598c3bc0   \n",
       "126696  fb8effe32fb79abcbb332960089ef6d3c5d3eead   \n",
       "126964  fc11dc20545fe3c977474443ae533a44d851e24c   \n",
       "127092  fc5150277fa072b2e602e5fdf301c4962b033936   \n",
       "128126  fe69509685601688d0e72ba750b516016a00aa4e   \n",
       "\n",
       "                                                    title  \\\n",
       "1372    Rapid community-driven development of a SARS- ...   \n",
       "1910    COVID-19 and Older People in Asia: AWGS Calls ...   \n",
       "2307    Drivers for emerging issues in animal and plan...   \n",
       "2330    Decreased T cell populations contribute to the...   \n",
       "3715    Exploring an Integrative Therapy for Treating ...   \n",
       "...                                                   ...   \n",
       "125789  No evidence of clinical efficacy of hydroxychl...   \n",
       "126696  Inter-country variability over time in the mor...   \n",
       "126964  Saturday 5 April -Respiratory Nurses SIG Oral ...   \n",
       "127092  Impaired type I interferon activity and exacer...   \n",
       "128126  Pathophysiological Basis and Rationale for Ear...   \n",
       "\n",
       "                                                  authors  \\\n",
       "1372    ['Michael Getz',  'Yafei Wang',  'Gary An',  '...   \n",
       "1910    ['Wee-Shiong Lim',  'Chih-Kuang Liang',  'Pras...   \n",
       "2307    ['Jane Richardson',  'Caryl Lockhart',  'Stefa...   \n",
       "2330    ['Rui Liu',  'Ying Wang',  'Jie Li',  'Huan Ha...   \n",
       "3715    ['Jia-Bo Wang',  'Wang Zhong-Xia',  'Jing Jing...   \n",
       "...                                                   ...   \n",
       "125789  ['Matthieu Mahévas',  'Viet-Thi Tran',  'Mathi...   \n",
       "126696  ['Oscar Peñuelas',  'Alfonso Muriel',  'Victor...   \n",
       "126964  ['S Mahadev',  'C Htun',  'C Salome',  'G King...   \n",
       "127092  ['Jérôme Hadjadj',  'Nader Yatim',  'Laura Bar...   \n",
       "128126  ['Peter Mccullough',  'Ronan Kelly',  'Gaetano...   \n",
       "\n",
       "                                                 abstract  \\\n",
       "1372    ['The 2019 novel coronavirus, SARS-CoV-2, is a...   \n",
       "1910    ['Japan 11 Health Promotion Administration, Mi...   \n",
       "2307    [\"The history of agriculture includes many ani...   \n",
       "2330    ['# These authors contributed equally to the w...   \n",
       "3715    ['number of patients with a new type of pneumo...   \n",
       "...                                                   ...   \n",
       "125789  ['Treatments are urgently needed to prevent re...   \n",
       "126696  ['Purpose: Variations in clinical characterist...   \n",
       "126964  ['Expiratory fl ow limitation (EFL) during tid...   \n",
       "127092  ['already caused more than 100,000 deaths worl...   \n",
       "128126  ['Approximately 9 months of the SARS-CoV-2 vir...   \n",
       "\n",
       "                                                body_text  author_count  \n",
       "1372    [\"The ongoing pandemic caused by the novel sev...            30  \n",
       "1910    ['The coronavirus disease 2019 pandemic has ev...            30  \n",
       "2307    ['An emerging risk to plant, animal and/or hum...            30  \n",
       "2330    [\"The COVID-19 is highly contagious and its pa...            30  \n",
       "3715    ['respiratory illnesses that can lead to acute...            30  \n",
       "...                                                   ...           ...  \n",
       "125789  ['The WHO-declared pandemic of severe acute re...            30  \n",
       "126696  ['The management of mechanically ventilated pa...            30  \n",
       "126964  ['Patients with non-eosinophilic asthma (NEA) ...            30  \n",
       "127092  ['Early clinical descriptions of the first SAR...            30  \n",
       "128126  ['The pandemic of SARS-CoV-2 (COVID- 19) , is ...            30  \n",
       "\n",
       "[200 rows x 6 columns]"
      ]
     },
     "execution_count": 83,
     "metadata": {},
     "output_type": "execute_result"
    }
   ],
   "source": [
    "authors_df[authors_df['author_count']==30]"
   ]
  },
  {
   "cell_type": "code",
   "execution_count": 172,
   "metadata": {},
   "outputs": [
    {
     "data": {
      "image/png": "[encoded data removed]",
      "text/plain": [
       "<Figure size 720x576 with 1 Axes>"
      ]
     },
     "metadata": {
      "needs_background": "light"
     },
     "output_type": "display_data"
    }
   ],
   "source": [
    "plt.figure(figsize = (10,8))\n",
    "plt.hist(authors_df['author_count'], bins = 30)\n",
    "plt.title(\"distribution of number of number of authors\")\n",
    "plt.show()"
   ]
  },
  {
   "cell_type": "code",
   "execution_count": 93,
   "metadata": {},
   "outputs": [],
   "source": [
    "authors_df['body_text'] = authors_df['body_text'].apply(lambda x: substitute_body(x))"
   ]
  },
  {
   "cell_type": "code",
   "execution_count": 98,
   "metadata": {},
   "outputs": [],
   "source": [
    "import plotly.graph_objects as go\n",
    "import plotly.express as px\n",
    "import plotly.figure_factory as ff\n",
    "import cufflinks as cf\n",
    "from plotly.offline import download_plotlyjs, init_notebook_mode, iplot\n",
    "import chart_studio.plotly as py\n",
    "import plotly\n",
    "import nltk\n",
    "import wordcloud\n",
    "from nltk.corpus import stopwords\n",
    "from wordcloud import WordCloud, STOPWORDS"
   ]
  },
  {
   "cell_type": "code",
   "execution_count": 99,
   "metadata": {},
   "outputs": [
    {
     "data": {
      "text/html": [
       "        <script type=\"text/javascript\">\n",
       "        window.PlotlyConfig = {MathJaxConfig: 'local'};\n",
       "        if (window.MathJax) {MathJax.Hub.Config({SVG: {font: \"STIX-Web\"}});}\n",
       "        if (typeof require !== 'undefined') {\n",
       "        require.undef(\"plotly\");\n",
       "        requirejs.config({\n",
       "            paths: {\n",
       "                'plotly': ['https://cdn.plot.ly/plotly-latest.min']\n",
       "            }\n",
       "        });\n",
       "        require(['plotly'], function(Plotly) {\n",
       "            window._Plotly = Plotly;\n",
       "        });\n",
       "        }\n",
       "        </script>\n",
       "        "
      ]
     },
     "metadata": {},
     "output_type": "display_data"
    },
    {
     "data": {
      "text/html": [
       "        <script type=\"text/javascript\">\n",
       "        window.PlotlyConfig = {MathJaxConfig: 'local'};\n",
       "        if (window.MathJax) {MathJax.Hub.Config({SVG: {font: \"STIX-Web\"}});}\n",
       "        if (typeof require !== 'undefined') {\n",
       "        require.undef(\"plotly\");\n",
       "        requirejs.config({\n",
       "            paths: {\n",
       "                'plotly': ['https://cdn.plot.ly/plotly-latest.min']\n",
       "            }\n",
       "        });\n",
       "        require(['plotly'], function(Plotly) {\n",
       "            window._Plotly = Plotly;\n",
       "        });\n",
       "        }\n",
       "        </script>\n",
       "        "
      ]
     },
     "metadata": {},
     "output_type": "display_data"
    }
   ],
   "source": [
    "plotly.offline.init_notebook_mode(connected=True)\n",
    "cf.go_offline() # required to use plotly offline (no account required)."
   ]
  },
  {
   "cell_type": "code",
   "execution_count": 101,
   "metadata": {},
   "outputs": [],
   "source": [
    "import langdetect\n",
    "from langdetect import detect"
   ]
  },
  {
   "cell_type": "code",
   "execution_count": 111,
   "metadata": {},
   "outputs": [
    {
     "data": {
      "text/plain": [
       "['en']"
      ]
     },
     "execution_count": 111,
     "metadata": {},
     "output_type": "execute_result"
    }
   ],
   "source": [
    "[detect(authors_df[\"body_text\"][1])]"
   ]
  },
  {
   "cell_type": "code",
   "execution_count": 117,
   "metadata": {},
   "outputs": [],
   "source": [
    "from tqdm import tqdm"
   ]
  },
  {
   "cell_type": "code",
   "execution_count": 119,
   "metadata": {},
   "outputs": [],
   "source": [
    "df1 = authors_df.sample(frac=0.20, random_state=1)"
   ]
  },
  {
   "cell_type": "code",
   "execution_count": 140,
   "metadata": {},
   "outputs": [],
   "source": [
    "df1=df1[df1['body_text'].apply(lambda x: any(c.isalpha() for c in x)== True)]"
   ]
  },
  {
   "cell_type": "code",
   "execution_count": 143,
   "metadata": {},
   "outputs": [
    {
     "name": "stderr",
     "output_type": "stream",
     "text": [
      "100%|████████████████████████████████████████████████████████████████████████████| 22874/22874 [27:16<00:00, 13.98it/s]\n"
     ]
    }
   ],
   "source": [
    "lang = []\n",
    "for i in tqdm(df1['body_text']):\n",
    "        lang.append(detect(i))"
   ]
  },
  {
   "cell_type": "code",
   "execution_count": 163,
   "metadata": {},
   "outputs": [
    {
     "data": {
      "text/html": [
       "<div>\n",
       "<style scoped>\n",
       "    .dataframe tbody tr th:only-of-type {\n",
       "        vertical-align: middle;\n",
       "    }\n",
       "\n",
       "    .dataframe tbody tr th {\n",
       "        vertical-align: top;\n",
       "    }\n",
       "\n",
       "    .dataframe thead th {\n",
       "        text-align: right;\n",
       "    }\n",
       "</style>\n",
       "<table border=\"1\" class=\"dataframe\">\n",
       "  <thead>\n",
       "    <tr style=\"text-align: right;\">\n",
       "      <th></th>\n",
       "      <th>0</th>\n",
       "    </tr>\n",
       "  </thead>\n",
       "  <tbody>\n",
       "    <tr>\n",
       "      <th>en</th>\n",
       "      <td>22362</td>\n",
       "    </tr>\n",
       "    <tr>\n",
       "      <th>de</th>\n",
       "      <td>230</td>\n",
       "    </tr>\n",
       "    <tr>\n",
       "      <th>es</th>\n",
       "      <td>129</td>\n",
       "    </tr>\n",
       "    <tr>\n",
       "      <th>fr</th>\n",
       "      <td>107</td>\n",
       "    </tr>\n",
       "    <tr>\n",
       "      <th>nl</th>\n",
       "      <td>26</td>\n",
       "    </tr>\n",
       "    <tr>\n",
       "      <th>it</th>\n",
       "      <td>15</td>\n",
       "    </tr>\n",
       "    <tr>\n",
       "      <th>pt</th>\n",
       "      <td>2</td>\n",
       "    </tr>\n",
       "    <tr>\n",
       "      <th>cy</th>\n",
       "      <td>1</td>\n",
       "    </tr>\n",
       "    <tr>\n",
       "      <th>tl</th>\n",
       "      <td>1</td>\n",
       "    </tr>\n",
       "    <tr>\n",
       "      <th>sq</th>\n",
       "      <td>1</td>\n",
       "    </tr>\n",
       "  </tbody>\n",
       "</table>\n",
       "</div>"
      ],
      "text/plain": [
       "        0\n",
       "en  22362\n",
       "de    230\n",
       "es    129\n",
       "fr    107\n",
       "nl     26\n",
       "it     15\n",
       "pt      2\n",
       "cy      1\n",
       "tl      1\n",
       "sq      1"
      ]
     },
     "execution_count": 163,
     "metadata": {},
     "output_type": "execute_result"
    }
   ],
   "source": [
    "l2 = pd.Series(lang).value_counts()\n",
    "l3 = pd.DataFrame(l2)\n",
    "l3"
   ]
  },
  {
   "cell_type": "code",
   "execution_count": 173,
   "metadata": {},
   "outputs": [
    {
     "data": {
      "image/png": "[encoded data removed]",
      "text/plain": [
       "<Figure size 720x576 with 1 Axes>"
      ]
     },
     "metadata": {
      "needs_background": "light"
     },
     "output_type": "display_data"
    }
   ],
   "source": [
    "plt.figure(figsize = (10,8))\n",
    "plt.bar(x = l3.index,height = l3[0])\n",
    "plt.yscale('log')\n",
    "plt.title(\"distribution of languages\")\n",
    "plt.show()"
   ]
  },
  {
   "cell_type": "code",
   "execution_count": 148,
   "metadata": {},
   "outputs": [
    {
     "data": {
      "text/html": [
       "<div>\n",
       "<style scoped>\n",
       "    .dataframe tbody tr th:only-of-type {\n",
       "        vertical-align: middle;\n",
       "    }\n",
       "\n",
       "    .dataframe tbody tr th {\n",
       "        vertical-align: top;\n",
       "    }\n",
       "\n",
       "    .dataframe thead th {\n",
       "        text-align: right;\n",
       "    }\n",
       "</style>\n",
       "<table border=\"1\" class=\"dataframe\">\n",
       "  <thead>\n",
       "    <tr style=\"text-align: right;\">\n",
       "      <th></th>\n",
       "      <th>0</th>\n",
       "    </tr>\n",
       "  </thead>\n",
       "  <tbody>\n",
       "    <tr>\n",
       "      <th>0</th>\n",
       "      <td>en</td>\n",
       "    </tr>\n",
       "    <tr>\n",
       "      <th>1</th>\n",
       "      <td>en</td>\n",
       "    </tr>\n",
       "    <tr>\n",
       "      <th>2</th>\n",
       "      <td>en</td>\n",
       "    </tr>\n",
       "    <tr>\n",
       "      <th>3</th>\n",
       "      <td>en</td>\n",
       "    </tr>\n",
       "    <tr>\n",
       "      <th>4</th>\n",
       "      <td>en</td>\n",
       "    </tr>\n",
       "    <tr>\n",
       "      <th>...</th>\n",
       "      <td>...</td>\n",
       "    </tr>\n",
       "    <tr>\n",
       "      <th>22869</th>\n",
       "      <td>en</td>\n",
       "    </tr>\n",
       "    <tr>\n",
       "      <th>22870</th>\n",
       "      <td>en</td>\n",
       "    </tr>\n",
       "    <tr>\n",
       "      <th>22871</th>\n",
       "      <td>en</td>\n",
       "    </tr>\n",
       "    <tr>\n",
       "      <th>22872</th>\n",
       "      <td>en</td>\n",
       "    </tr>\n",
       "    <tr>\n",
       "      <th>22873</th>\n",
       "      <td>en</td>\n",
       "    </tr>\n",
       "  </tbody>\n",
       "</table>\n",
       "<p>22874 rows × 1 columns</p>\n",
       "</div>"
      ],
      "text/plain": [
       "        0\n",
       "0      en\n",
       "1      en\n",
       "2      en\n",
       "3      en\n",
       "4      en\n",
       "...    ..\n",
       "22869  en\n",
       "22870  en\n",
       "22871  en\n",
       "22872  en\n",
       "22873  en\n",
       "\n",
       "[22874 rows x 1 columns]"
      ]
     },
     "execution_count": 148,
     "metadata": {},
     "output_type": "execute_result"
    }
   ],
   "source": [
    "l1 = pd.DataFrame(lang)\n",
    "l1"
   ]
  }
 ],
 "metadata": {
  "kernelspec": {
   "display_name": "Python 3",
   "language": "python",
   "name": "python3"
  },
  "language_info": {
   "codemirror_mode": {
    "name": "ipython",
    "version": 3
   },
   "file_extension": ".py",
   "mimetype": "text/x-python",
   "name": "python",
   "nbconvert_exporter": "python",
   "pygments_lexer": "ipython3",
   "version": "3.8.5"
  }
 },
 "nbformat": 4,
 "nbformat_minor": 4
}
