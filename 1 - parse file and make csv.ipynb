{
 "cells": [
  {
   "cell_type": "markdown",
   "metadata": {},
   "source": [
    "Importing all packages"
   ]
  },
  {
   "cell_type": "code",
   "execution_count": 1,
   "metadata": {},
   "outputs": [],
   "source": [
    "import pandas as pd"
   ]
  },
  {
   "cell_type": "code",
   "execution_count": 2,
   "metadata": {},
   "outputs": [],
   "source": [
    "import numpy as np"
   ]
  },
  {
   "cell_type": "code",
   "execution_count": 3,
   "metadata": {},
   "outputs": [],
   "source": [
    "import seaborn as sns"
   ]
  },
  {
   "cell_type": "code",
   "execution_count": 4,
   "metadata": {},
   "outputs": [],
   "source": [
    "import matplotlib.pyplot as plt"
   ]
  },
  {
   "cell_type": "code",
   "execution_count": 5,
   "metadata": {},
   "outputs": [],
   "source": [
    "import glob"
   ]
  },
  {
   "cell_type": "code",
   "execution_count": 6,
   "metadata": {},
   "outputs": [],
   "source": [
    "import os"
   ]
  },
  {
   "cell_type": "code",
   "execution_count": 7,
   "metadata": {},
   "outputs": [],
   "source": [
    "%matplotlib inline"
   ]
  },
  {
   "cell_type": "markdown",
   "metadata": {},
   "source": [
    "break"
   ]
  },
  {
   "cell_type": "code",
   "execution_count": 8,
   "metadata": {},
   "outputs": [],
   "source": [
    "def read_json(filename):\n",
    "    \"\"\" Read a json file into a dictionary\n",
    "    data structure. \"\"\"\n",
    "    import json\n",
    "    with open(filename, 'r') as file:\n",
    "        data = json.load(file)\n",
    "    return data"
   ]
  },
  {
   "cell_type": "code",
   "execution_count": 105,
   "metadata": {},
   "outputs": [],
   "source": [
    "#file1 = 'C:/Users/chopr/OneDrive/Desktop/Northeastern/USML DS 5230/project/pdf_json/26e8ef0fab0bc606adadae018a73d8490c8e1cd5.json'"
   ]
  },
  {
   "cell_type": "code",
   "execution_count": 106,
   "metadata": {
    "scrolled": false
   },
   "outputs": [],
   "source": [
    "#json_file1 = read_json(file1)"
   ]
  },
  {
   "cell_type": "code",
   "execution_count": 107,
   "metadata": {},
   "outputs": [],
   "source": [
    "#json_file1['paper_id'] #paper id <- primary key"
   ]
  },
  {
   "cell_type": "code",
   "execution_count": 115,
   "metadata": {},
   "outputs": [],
   "source": [
    "#for i in json_file1['metadata']['authors']:#title, authors:\n",
    "#    print(i['first'])"
   ]
  },
  {
   "cell_type": "code",
   "execution_count": 114,
   "metadata": {},
   "outputs": [],
   "source": [
    "#json_file1['abstract'] # it is a list that has all of this > in a dict ['text', 'cite_spans', 'ref_spans', 'section'])"
   ]
  },
  {
   "cell_type": "code",
   "execution_count": 110,
   "metadata": {},
   "outputs": [],
   "source": [
    "#json_file1['body_text'] #has all the paragraphs of the paper"
   ]
  },
  {
   "cell_type": "code",
   "execution_count": 12,
   "metadata": {},
   "outputs": [],
   "source": [
    "def parse_file(filename):\n",
    "    file = filename #takes in a json file\n",
    "    values = {}\n",
    "    \n",
    "    values['paper_id'] = file['paper_id']\n",
    "    values['title'] = file['metadata']['title']\n",
    "    \n",
    "    authors = file['metadata']['authors']\n",
    "    names = []\n",
    "    for i in authors: #list of string hona chhaiye\n",
    "        first = i['first']\n",
    "        last = i['last']\n",
    "        name = first+\" \"+last\n",
    "        names.append(name)\n",
    "    if names == []:\n",
    "        names = np.NAN\n",
    "    values['authors'] = names\n",
    "    \n",
    "    abstract = ''\n",
    "    for j in file['abstract']:\n",
    "        abstract = abstract +j['text']+\"\\n\"\n",
    "    if abstract == '':\n",
    "        abstract = np.NAN\n",
    "    values['abstract'] = abstract\n",
    "    \n",
    "    body_text = ''\n",
    "    for j in file['body_text']:\n",
    "        body_text = body_text +j['text']+\"\\n\"\n",
    "    if body_text == '':\n",
    "        bosy_text = np.NAN\n",
    "    values['body_text'] = body_text\n",
    "    \n",
    "    \n",
    "    return values"
   ]
  },
  {
   "cell_type": "code",
   "execution_count": 14,
   "metadata": {},
   "outputs": [],
   "source": [
    "def parse_file1(filename):\n",
    "    file = filename  #takes in a json file\n",
    "    # We will store all parsed data into values dictionary\n",
    "    values = {}\n",
    "    # Unique identifier for each paper\n",
    "    values['paper_id'] = file['paper_id']\n",
    "    # Title of the paper\n",
    "    values['title'] = file['metadata']['title']\n",
    "    if values['title'] == '': values['title'] = np.NAN\n",
    "    # Authors metadata\n",
    "    authors = file['metadata']['authors']\n",
    "    names = [i['first'] + \" \" + i['last'] for i in authors]\n",
    "    if names == []: names = np.NAN\n",
    "    values['authors'] = names\n",
    "    # Abstract of the paper\n",
    "    abstract = [''.join(j['text']) for j in file['abstract']]\n",
    "    if abstract == []: abstract = np.NAN\n",
    "    values['abstract'] = abstract\n",
    "    # Main text body of the paper\n",
    "    body_text = [''.join(j['text']) for j in file['body_text']]\n",
    "    if body_text == []: body_text = np.NAN\n",
    "    values['body_text'] = body_text\n",
    "\n",
    "    return values"
   ]
  },
  {
   "cell_type": "code",
   "execution_count": 56,
   "metadata": {},
   "outputs": [],
   "source": [
    "#file1_values = parse_file(json_file1)"
   ]
  },
  {
   "cell_type": "code",
   "execution_count": 11,
   "metadata": {},
   "outputs": [
    {
     "data": {
      "text/plain": [
       "128915"
      ]
     },
     "execution_count": 11,
     "metadata": {},
     "output_type": "execute_result"
    }
   ],
   "source": [
    "all_json = glob.glob('C:/Users/chopr/OneDrive/Desktop/Northeastern/USML DS 5230/project/pdf_json/*.json', recursive=True)\n",
    "len(all_json) #list of strings of all file names ending in .json"
   ]
  },
  {
   "cell_type": "code",
   "execution_count": 15,
   "metadata": {},
   "outputs": [],
   "source": [
    "# IMPORTANT\n",
    "df_dict = {}\n",
    "#print((read_json(all_json[0]))['paper_id'])\n",
    "for i in all_json:\n",
    "    j = read_json(i)\n",
    "    df_dict[j['paper_id']] = parse_file1(j)\n"
   ]
  },
  {
   "cell_type": "code",
   "execution_count": 16,
   "metadata": {},
   "outputs": [
    {
     "data": {
      "text/html": [
       "<div>\n",
       "<style scoped>\n",
       "    .dataframe tbody tr th:only-of-type {\n",
       "        vertical-align: middle;\n",
       "    }\n",
       "\n",
       "    .dataframe tbody tr th {\n",
       "        vertical-align: top;\n",
       "    }\n",
       "\n",
       "    .dataframe thead th {\n",
       "        text-align: right;\n",
       "    }\n",
       "</style>\n",
       "<table border=\"1\" class=\"dataframe\">\n",
       "  <thead>\n",
       "    <tr style=\"text-align: right;\">\n",
       "      <th></th>\n",
       "      <th>paper_id</th>\n",
       "      <th>title</th>\n",
       "      <th>authors</th>\n",
       "      <th>abstract</th>\n",
       "      <th>body_text</th>\n",
       "    </tr>\n",
       "  </thead>\n",
       "  <tbody>\n",
       "    <tr>\n",
       "      <th>0</th>\n",
       "      <td>0000028b5cc154f68b8a269f6578f21e31f62977</td>\n",
       "      <td>\"Multi-faceted\" COVID-19: Russian experience</td>\n",
       "      <td>NaN</td>\n",
       "      <td>NaN</td>\n",
       "      <td>[According to current live statistics at the t...</td>\n",
       "    </tr>\n",
       "    <tr>\n",
       "      <th>1</th>\n",
       "      <td>0001418189999fea7f7cbe3e82703d71c85a6fe5</td>\n",
       "      <td>Absence of surface expression of feline infect...</td>\n",
       "      <td>[E Cornelissen, H Dewerchin, E Hamme, H Nauwynck]</td>\n",
       "      <td>[Feline infectious peritonitis virus (FIPV) po...</td>\n",
       "      <td>[Feline infectious peritonitis (FIP) is a fata...</td>\n",
       "    </tr>\n",
       "    <tr>\n",
       "      <th>2</th>\n",
       "      <td>00033d5a12240a8684cfe943954132b43434cf48</td>\n",
       "      <td>Detection of Severe Acute Respiratory Syndrome...</td>\n",
       "      <td>[Petra Wandernoth, Katharina Kriegsmann, Crist...</td>\n",
       "      <td>[Background: Amplification of viral ribonuclei...</td>\n",
       "      <td>[Severe acute respiratory syndrome coronavirus...</td>\n",
       "    </tr>\n",
       "    <tr>\n",
       "      <th>3</th>\n",
       "      <td>0003793cf9e709bc2b9d0c8111186f78fb73fc04</td>\n",
       "      <td>Title: Rethinking high-risk groups in COVID-19</td>\n",
       "      <td>[Anastasia Vishnevetsky, Michael Levy]</td>\n",
       "      <td>NaN</td>\n",
       "      <td>[How do we protect our 'high-risk' patient pop...</td>\n",
       "    </tr>\n",
       "    <tr>\n",
       "      <th>4</th>\n",
       "      <td>000379d7a7f37a2ccb978862b9f2016bd03259ea</td>\n",
       "      <td>ScienceDirect ScienceDirect Effect of Nanomate...</td>\n",
       "      <td>[Harish Devaraj, Rajiv Malhotra]</td>\n",
       "      <td>[approach. The NM shape in the conformal circu...</td>\n",
       "      <td>[Integration of functional electronic devices ...</td>\n",
       "    </tr>\n",
       "  </tbody>\n",
       "</table>\n",
       "</div>"
      ],
      "text/plain": [
       "                                   paper_id  \\\n",
       "0  0000028b5cc154f68b8a269f6578f21e31f62977   \n",
       "1  0001418189999fea7f7cbe3e82703d71c85a6fe5   \n",
       "2  00033d5a12240a8684cfe943954132b43434cf48   \n",
       "3  0003793cf9e709bc2b9d0c8111186f78fb73fc04   \n",
       "4  000379d7a7f37a2ccb978862b9f2016bd03259ea   \n",
       "\n",
       "                                               title  \\\n",
       "0       \"Multi-faceted\" COVID-19: Russian experience   \n",
       "1  Absence of surface expression of feline infect...   \n",
       "2  Detection of Severe Acute Respiratory Syndrome...   \n",
       "3     Title: Rethinking high-risk groups in COVID-19   \n",
       "4  ScienceDirect ScienceDirect Effect of Nanomate...   \n",
       "\n",
       "                                             authors  \\\n",
       "0                                                NaN   \n",
       "1  [E Cornelissen, H Dewerchin, E Hamme, H Nauwynck]   \n",
       "2  [Petra Wandernoth, Katharina Kriegsmann, Crist...   \n",
       "3             [Anastasia Vishnevetsky, Michael Levy]   \n",
       "4                   [Harish Devaraj, Rajiv Malhotra]   \n",
       "\n",
       "                                            abstract  \\\n",
       "0                                                NaN   \n",
       "1  [Feline infectious peritonitis virus (FIPV) po...   \n",
       "2  [Background: Amplification of viral ribonuclei...   \n",
       "3                                                NaN   \n",
       "4  [approach. The NM shape in the conformal circu...   \n",
       "\n",
       "                                           body_text  \n",
       "0  [According to current live statistics at the t...  \n",
       "1  [Feline infectious peritonitis (FIP) is a fata...  \n",
       "2  [Severe acute respiratory syndrome coronavirus...  \n",
       "3  [How do we protect our 'high-risk' patient pop...  \n",
       "4  [Integration of functional electronic devices ...  "
      ]
     },
     "execution_count": 16,
     "metadata": {},
     "output_type": "execute_result"
    }
   ],
   "source": [
    "test_df = pd.DataFrame.from_dict(df_dict)\n",
    "test_df = test_df.transpose()\n",
    "test_df = test_df.reset_index(drop = True)\n",
    "test_df.head()"
   ]
  },
  {
   "cell_type": "code",
   "execution_count": 17,
   "metadata": {},
   "outputs": [
    {
     "data": {
      "text/plain": [
       "(128915, 5)"
      ]
     },
     "execution_count": 17,
     "metadata": {},
     "output_type": "execute_result"
    }
   ],
   "source": [
    "test_df.shape"
   ]
  },
  {
   "cell_type": "code",
   "execution_count": 18,
   "metadata": {},
   "outputs": [],
   "source": [
    "test_df.to_csv('test_df_full.csv', index = False)"
   ]
  },
  {
   "cell_type": "code",
   "execution_count": 120,
   "metadata": {},
   "outputs": [],
   "source": [
    "#test_df.iloc[5459]['body_text']"
   ]
  },
  {
   "cell_type": "code",
   "execution_count": 19,
   "metadata": {},
   "outputs": [],
   "source": [
    "test_csv = pd.read_csv('test_df_full.csv')"
   ]
  },
  {
   "cell_type": "code",
   "execution_count": 20,
   "metadata": {},
   "outputs": [
    {
     "data": {
      "text/html": [
       "<div>\n",
       "<style scoped>\n",
       "    .dataframe tbody tr th:only-of-type {\n",
       "        vertical-align: middle;\n",
       "    }\n",
       "\n",
       "    .dataframe tbody tr th {\n",
       "        vertical-align: top;\n",
       "    }\n",
       "\n",
       "    .dataframe thead th {\n",
       "        text-align: right;\n",
       "    }\n",
       "</style>\n",
       "<table border=\"1\" class=\"dataframe\">\n",
       "  <thead>\n",
       "    <tr style=\"text-align: right;\">\n",
       "      <th></th>\n",
       "      <th>paper_id</th>\n",
       "      <th>title</th>\n",
       "      <th>authors</th>\n",
       "      <th>abstract</th>\n",
       "      <th>body_text</th>\n",
       "    </tr>\n",
       "  </thead>\n",
       "  <tbody>\n",
       "    <tr>\n",
       "      <th>0</th>\n",
       "      <td>0000028b5cc154f68b8a269f6578f21e31f62977</td>\n",
       "      <td>\"Multi-faceted\" COVID-19: Russian experience</td>\n",
       "      <td>NaN</td>\n",
       "      <td>NaN</td>\n",
       "      <td>['According to current live statistics at the ...</td>\n",
       "    </tr>\n",
       "    <tr>\n",
       "      <th>1</th>\n",
       "      <td>0001418189999fea7f7cbe3e82703d71c85a6fe5</td>\n",
       "      <td>Absence of surface expression of feline infect...</td>\n",
       "      <td>['E Cornelissen', 'H Dewerchin', 'E Hamme', 'H...</td>\n",
       "      <td>['Feline infectious peritonitis virus (FIPV) p...</td>\n",
       "      <td>['Feline infectious peritonitis (FIP) is a fat...</td>\n",
       "    </tr>\n",
       "    <tr>\n",
       "      <th>2</th>\n",
       "      <td>00033d5a12240a8684cfe943954132b43434cf48</td>\n",
       "      <td>Detection of Severe Acute Respiratory Syndrome...</td>\n",
       "      <td>['Petra Wandernoth', 'Katharina Kriegsmann', '...</td>\n",
       "      <td>['Background: Amplification of viral ribonucle...</td>\n",
       "      <td>['Severe acute respiratory syndrome coronaviru...</td>\n",
       "    </tr>\n",
       "    <tr>\n",
       "      <th>3</th>\n",
       "      <td>0003793cf9e709bc2b9d0c8111186f78fb73fc04</td>\n",
       "      <td>Title: Rethinking high-risk groups in COVID-19</td>\n",
       "      <td>['Anastasia Vishnevetsky', 'Michael Levy']</td>\n",
       "      <td>NaN</td>\n",
       "      <td>[\"How do we protect our 'high-risk' patient po...</td>\n",
       "    </tr>\n",
       "    <tr>\n",
       "      <th>4</th>\n",
       "      <td>000379d7a7f37a2ccb978862b9f2016bd03259ea</td>\n",
       "      <td>ScienceDirect ScienceDirect Effect of Nanomate...</td>\n",
       "      <td>['Harish Devaraj', 'Rajiv Malhotra']</td>\n",
       "      <td>['approach. The NM shape in the conformal circ...</td>\n",
       "      <td>['Integration of functional electronic devices...</td>\n",
       "    </tr>\n",
       "  </tbody>\n",
       "</table>\n",
       "</div>"
      ],
      "text/plain": [
       "                                   paper_id  \\\n",
       "0  0000028b5cc154f68b8a269f6578f21e31f62977   \n",
       "1  0001418189999fea7f7cbe3e82703d71c85a6fe5   \n",
       "2  00033d5a12240a8684cfe943954132b43434cf48   \n",
       "3  0003793cf9e709bc2b9d0c8111186f78fb73fc04   \n",
       "4  000379d7a7f37a2ccb978862b9f2016bd03259ea   \n",
       "\n",
       "                                               title  \\\n",
       "0       \"Multi-faceted\" COVID-19: Russian experience   \n",
       "1  Absence of surface expression of feline infect...   \n",
       "2  Detection of Severe Acute Respiratory Syndrome...   \n",
       "3     Title: Rethinking high-risk groups in COVID-19   \n",
       "4  ScienceDirect ScienceDirect Effect of Nanomate...   \n",
       "\n",
       "                                             authors  \\\n",
       "0                                                NaN   \n",
       "1  ['E Cornelissen', 'H Dewerchin', 'E Hamme', 'H...   \n",
       "2  ['Petra Wandernoth', 'Katharina Kriegsmann', '...   \n",
       "3         ['Anastasia Vishnevetsky', 'Michael Levy']   \n",
       "4               ['Harish Devaraj', 'Rajiv Malhotra']   \n",
       "\n",
       "                                            abstract  \\\n",
       "0                                                NaN   \n",
       "1  ['Feline infectious peritonitis virus (FIPV) p...   \n",
       "2  ['Background: Amplification of viral ribonucle...   \n",
       "3                                                NaN   \n",
       "4  ['approach. The NM shape in the conformal circ...   \n",
       "\n",
       "                                           body_text  \n",
       "0  ['According to current live statistics at the ...  \n",
       "1  ['Feline infectious peritonitis (FIP) is a fat...  \n",
       "2  ['Severe acute respiratory syndrome coronaviru...  \n",
       "3  [\"How do we protect our 'high-risk' patient po...  \n",
       "4  ['Integration of functional electronic devices...  "
      ]
     },
     "execution_count": 20,
     "metadata": {},
     "output_type": "execute_result"
    }
   ],
   "source": [
    "test_csv.head()"
   ]
  },
  {
   "cell_type": "code",
   "execution_count": null,
   "metadata": {},
   "outputs": [],
   "source": []
  },
  {
   "cell_type": "code",
   "execution_count": null,
   "metadata": {},
   "outputs": [],
   "source": []
  },
  {
   "cell_type": "code",
   "execution_count": 55,
   "metadata": {},
   "outputs": [],
   "source": [
    "# rough work\n",
    "\n",
    "file = json_file1\n",
    "values = {}\n",
    "values['paper_id'] = file['paper_id']\n",
    "values['title'] = file['metadata']['title']\n",
    "authors = file['metadata']['authors']\n",
    "names = []\n",
    "for i in authors:\n",
    "        first = i['first']\n",
    "        last = i['last']\n",
    "        name = first+\" \"+last\n",
    "        names.append(name)\n",
    "#print(names)\n",
    "#print(\"abstract = \",file['abstract'][1]['text'])\n",
    "abstract = ''\n",
    "for j in file['abstract']:\n",
    "        abstract = abstract +j['text']+\"\\n\"\n",
    "#print(abstract)\n",
    "body_text = ''\n",
    "for j in file['body_text']:\n",
    "    body_text = body_text +j['text']+\"\\n\"\n",
    "#print(body_text)"
   ]
  }
 ],
 "metadata": {
  "kernelspec": {
   "display_name": "Python 3",
   "language": "python",
   "name": "python3"
  },
  "language_info": {
   "codemirror_mode": {
    "name": "ipython",
    "version": 3
   },
   "file_extension": ".py",
   "mimetype": "text/x-python",
   "name": "python",
   "nbconvert_exporter": "python",
   "pygments_lexer": "ipython3",
   "version": "3.8.5"
  }
 },
 "nbformat": 4,
 "nbformat_minor": 4
}
