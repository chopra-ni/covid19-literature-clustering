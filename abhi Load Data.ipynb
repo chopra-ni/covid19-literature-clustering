{
 "cells": [
  {
   "cell_type": "markdown",
   "metadata": {},
   "source": [
    "Importing all packages"
   ]
  },
  {
   "cell_type": "code",
   "execution_count": 8,
   "metadata": {},
   "outputs": [],
   "source": [
    "import pandas as pd"
   ]
  },
  {
   "cell_type": "code",
   "execution_count": 9,
   "metadata": {},
   "outputs": [],
   "source": [
    "import numpy as np"
   ]
  },
  {
   "cell_type": "code",
   "execution_count": 10,
   "metadata": {},
   "outputs": [],
   "source": [
    "import glob"
   ]
  },
  {
   "cell_type": "code",
   "execution_count": 11,
   "metadata": {},
   "outputs": [],
   "source": [
    "import os"
   ]
  },
  {
   "cell_type": "code",
   "execution_count": 12,
   "metadata": {},
   "outputs": [],
   "source": [
    "from tqdm.notebook import tqdm"
   ]
  },
  {
   "cell_type": "markdown",
   "metadata": {},
   "source": [
    "break"
   ]
  },
  {
   "cell_type": "code",
   "execution_count": 16,
   "metadata": {},
   "outputs": [],
   "source": [
    "def read_json(filename):\n",
    "    \"\"\" Read a json file into a dictionary\n",
    "    data structure. \"\"\"\n",
    "    import json\n",
    "    with open(filename, 'r') as file:\n",
    "        data = json.load(file)\n",
    "    return data"
   ]
  },
  {
   "cell_type": "code",
   "execution_count": 7,
   "metadata": {},
   "outputs": [],
   "source": [
    "def parse_file(filename):\n",
    "    file = filename  #takes in a json file\n",
    "    # We will store all parsed data into values dictionary\n",
    "    values = {}\n",
    "    # Unique identifier for each paper\n",
    "    values['paper_id'] = file['paper_id']\n",
    "    # Title of the paper\n",
    "    values['title'] = file['metadata']['title']\n",
    "    # Authors metadata\n",
    "    authors = file['metadata']['authors']\n",
    "    names = []\n",
    "    for i in authors:\n",
    "        first = i['first']\n",
    "        last = i['last']\n",
    "        name = first + \" \" + last\n",
    "        names.append(name)\n",
    "    if names == []:\n",
    "        names = np.NAN\n",
    "    values['authors'] = names\n",
    "    # Abstract of the paper\n",
    "    abstract = ''\n",
    "    for j in file['abstract']:\n",
    "        abstract = abstract + j['text'] + \"\\n\"\n",
    "    if abstract == '':\n",
    "        abstract = np.NAN\n",
    "    values['abstract'] = abstract\n",
    "    # Main text body of the paper\n",
    "    body_text = ''\n",
    "    for j in file['body_text']:\n",
    "        body_text = body_text + j['text'] + \"\\n\"\n",
    "    if body_text == '':\n",
    "        body_text = np.NAN\n",
    "    values['body_text'] = body_text\n",
    "\n",
    "    return values"
   ]
  },
  {
   "cell_type": "code",
   "execution_count": 14,
   "metadata": {},
   "outputs": [
    {
     "data": {
      "text/plain": [
       "128915"
      ]
     },
     "execution_count": 14,
     "metadata": {},
     "output_type": "execute_result"
    }
   ],
   "source": [
    " #list of strings of all file names ending in .json\n",
    "all_json = glob.glob('C:/Users/abhil/Documents/DC/Projects/pdf_json/*.json', recursive=True)\n",
    "len(all_json)"
   ]
  },
  {
   "cell_type": "code",
   "execution_count": 73,
   "metadata": {},
   "outputs": [
    {
     "data": {
      "application/vnd.jupyter.widget-view+json": {
       "model_id": "9d2b0ef823524dcaa7b0bb1046c305be",
       "version_major": 2,
       "version_minor": 0
      },
      "text/plain": [
       "HBox(children=(HTML(value=''), FloatProgress(value=0.0, max=50000.0), HTML(value='')))"
      ]
     },
     "metadata": {},
     "output_type": "display_data"
    },
    {
     "name": "stdout",
     "output_type": "stream",
     "text": [
      "\n"
     ]
    }
   ],
   "source": [
    "# IMPORTANT\n",
    "df_dict = {}\n",
    "for i in tqdm(all_json[:50000]):\n",
    "    j = read_json(i)\n",
    "    df_dict[j['paper_id']] = parse_file(j)"
   ]
  },
  {
   "cell_type": "code",
   "execution_count": 49,
   "metadata": {},
   "outputs": [
    {
     "data": {
      "application/vnd.jupyter.widget-view+json": {
       "model_id": "cd46e84ce645457e8366704f4c2cb594",
       "version_major": 2,
       "version_minor": 0
      },
      "text/plain": [
       "HBox(children=(HTML(value=''), FloatProgress(value=0.0, max=50000.0), HTML(value='')))"
      ]
     },
     "metadata": {},
     "output_type": "display_data"
    },
    {
     "name": "stdout",
     "output_type": "stream",
     "text": [
      "\n",
      "\n"
     ]
    }
   ],
   "source": [
    "df_dict = [parse_file(read_json(i)) for i in tqdm(all_json[:50000])]"
   ]
  },
  {
   "cell_type": "code",
   "execution_count": 51,
   "metadata": {},
   "outputs": [
    {
     "data": {
      "application/vnd.jupyter.widget-view+json": {
       "model_id": "bcfd8ea03dd14312936c388e2f5de886",
       "version_major": 2,
       "version_minor": 0
      },
      "text/plain": [
       "HBox(children=(HTML(value=''), FloatProgress(value=0.0, max=78915.0), HTML(value='')))"
      ]
     },
     "metadata": {},
     "output_type": "display_data"
    },
    {
     "name": "stdout",
     "output_type": "stream",
     "text": [
      "\n"
     ]
    }
   ],
   "source": [
    "df_dict.append([parse_file(read_json(i)) for i in tqdm(all_json[50000:])])"
   ]
  },
  {
   "cell_type": "code",
   "execution_count": null,
   "metadata": {},
   "outputs": [],
   "source": [
    "test_df = pd.DataFrame.from_dict(df_dict)"
   ]
  },
  {
   "cell_type": "code",
   "execution_count": 75,
   "metadata": {},
   "outputs": [
    {
     "data": {
      "text/plain": [
       "(50000, 5)"
      ]
     },
     "execution_count": 75,
     "metadata": {},
     "output_type": "execute_result"
    }
   ],
   "source": [
    "test_df.shape"
   ]
  },
  {
   "cell_type": "code",
   "execution_count": 76,
   "metadata": {},
   "outputs": [],
   "source": [
    "# Save the dataframe to csv file\n",
    "test_df.to_csv('test_df_complete.csv', index = False)"
   ]
  },
  {
   "cell_type": "code",
   "execution_count": 77,
   "metadata": {},
   "outputs": [],
   "source": [
    "test_csv = pd.read_csv('test_df_first_50000.csv')"
   ]
  },
  {
   "cell_type": "code",
   "execution_count": 78,
   "metadata": {},
   "outputs": [
    {
     "data": {
      "text/html": [
       "<div>\n",
       "<style scoped>\n",
       "    .dataframe tbody tr th:only-of-type {\n",
       "        vertical-align: middle;\n",
       "    }\n",
       "\n",
       "    .dataframe tbody tr th {\n",
       "        vertical-align: top;\n",
       "    }\n",
       "\n",
       "    .dataframe thead th {\n",
       "        text-align: right;\n",
       "    }\n",
       "</style>\n",
       "<table border=\"1\" class=\"dataframe\">\n",
       "  <thead>\n",
       "    <tr style=\"text-align: right;\">\n",
       "      <th></th>\n",
       "      <th>paper_id</th>\n",
       "      <th>title</th>\n",
       "      <th>authors</th>\n",
       "      <th>abstract</th>\n",
       "      <th>body_text</th>\n",
       "    </tr>\n",
       "  </thead>\n",
       "  <tbody>\n",
       "    <tr>\n",
       "      <th>0</th>\n",
       "      <td>0000028b5cc154f68b8a269f6578f21e31f62977</td>\n",
       "      <td>\"Multi-faceted\" COVID-19: Russian experience</td>\n",
       "      <td>NaN</td>\n",
       "      <td>NaN</td>\n",
       "      <td>According to current live statistics at the ti...</td>\n",
       "    </tr>\n",
       "    <tr>\n",
       "      <th>1</th>\n",
       "      <td>0001418189999fea7f7cbe3e82703d71c85a6fe5</td>\n",
       "      <td>Absence of surface expression of feline infect...</td>\n",
       "      <td>['E Cornelissen', 'H Dewerchin', 'E Hamme', 'H...</td>\n",
       "      <td>Feline infectious peritonitis virus (FIPV) pos...</td>\n",
       "      <td>Feline infectious peritonitis (FIP) is a fatal...</td>\n",
       "    </tr>\n",
       "    <tr>\n",
       "      <th>2</th>\n",
       "      <td>00033d5a12240a8684cfe943954132b43434cf48</td>\n",
       "      <td>Detection of Severe Acute Respiratory Syndrome...</td>\n",
       "      <td>['Petra Wandernoth', 'Katharina Kriegsmann', '...</td>\n",
       "      <td>Background: Amplification of viral ribonucleic...</td>\n",
       "      <td>Severe acute respiratory syndrome coronavirus ...</td>\n",
       "    </tr>\n",
       "    <tr>\n",
       "      <th>3</th>\n",
       "      <td>0003793cf9e709bc2b9d0c8111186f78fb73fc04</td>\n",
       "      <td>Title: Rethinking high-risk groups in COVID-19</td>\n",
       "      <td>['Anastasia Vishnevetsky', 'Michael Levy']</td>\n",
       "      <td>NaN</td>\n",
       "      <td>How do we protect our 'high-risk' patient popu...</td>\n",
       "    </tr>\n",
       "    <tr>\n",
       "      <th>4</th>\n",
       "      <td>000379d7a7f37a2ccb978862b9f2016bd03259ea</td>\n",
       "      <td>ScienceDirect ScienceDirect Effect of Nanomate...</td>\n",
       "      <td>['Harish Devaraj', 'Rajiv Malhotra']</td>\n",
       "      <td>approach. The NM shape in the conformal circui...</td>\n",
       "      <td>Integration of functional electronic devices o...</td>\n",
       "    </tr>\n",
       "    <tr>\n",
       "      <th>5</th>\n",
       "      <td>00039b94e6cb7609ecbddee1755314bcfeb77faa</td>\n",
       "      <td>Plasma inflammatory cytokines and chemokines i...</td>\n",
       "      <td>['W Lam', 'C Wong', 'C Lam', 'A Wu', 'W Ip', '...</td>\n",
       "      <td>Severe acute respiratory syndrome (SARS) is a ...</td>\n",
       "      <td>Severe acute respiratory syndrome (SARS) is a ...</td>\n",
       "    </tr>\n",
       "    <tr>\n",
       "      <th>6</th>\n",
       "      <td>0003ddc51c4291d742855e9ac56076a3bea33ad7</td>\n",
       "      <td>Journal Pre-proofs The Fire This Time: The Str...</td>\n",
       "      <td>['Olusola Ajilore', 'April Thames']</td>\n",
       "      <td>NaN</td>\n",
       "      <td>It is said that crisis reveals character. The ...</td>\n",
       "    </tr>\n",
       "    <tr>\n",
       "      <th>7</th>\n",
       "      <td>0003ddfb7ce19bcb3f38907f69676163b9863535</td>\n",
       "      <td>NaN</td>\n",
       "      <td>['Allan De Guzman', 'Darwin Angcahan']</td>\n",
       "      <td>The value of professional identity is an inter...</td>\n",
       "      <td>Considered as the most important asset in the ...</td>\n",
       "    </tr>\n",
       "    <tr>\n",
       "      <th>8</th>\n",
       "      <td>0004456994f6c1d5db7327990386d33c01cff32a</td>\n",
       "      <td>NaN</td>\n",
       "      <td>['Chris Williams', 'Brunhilde Schweiger', 'Gen...</td>\n",
       "      <td>Background: Influenza immunisation for healthc...</td>\n",
       "      <td>The German standing commission for immunisatio...</td>\n",
       "    </tr>\n",
       "    <tr>\n",
       "      <th>9</th>\n",
       "      <td>0004774b55eb0dad880aba9b572efe362660c5e0</td>\n",
       "      <td>Disaster Perceptions</td>\n",
       "      <td>NaN</td>\n",
       "      <td>NaN</td>\n",
       "      <td>. So, if there is no singular definition of ri...</td>\n",
       "    </tr>\n",
       "    <tr>\n",
       "      <th>10</th>\n",
       "      <td>000525b51f78000644865b63d47ac27c624c5981</td>\n",
       "      <td>Journal Pre-proof Editorial: Root causes and p...</td>\n",
       "      <td>['Irasema Alcántara-Ayala', 'Ian Burton', 'All...</td>\n",
       "      <td>NaN</td>\n",
       "      <td>Today the term \"pandemic\" is both a metaphor f...</td>\n",
       "    </tr>\n",
       "    <tr>\n",
       "      <th>11</th>\n",
       "      <td>0005a68bbed13ad78ca3d1be654078b8729f8975</td>\n",
       "      <td>Antiviral Potential of Nanoparticles-Can Nanop...</td>\n",
       "      <td>['Sangiliyandi Gurunathan', 'Muhammad Qasim', ...</td>\n",
       "      <td>Infectious diseases account for more than 20% ...</td>\n",
       "      <td>Infectious diseases are caused by pathogenic m...</td>\n",
       "    </tr>\n",
       "    <tr>\n",
       "      <th>12</th>\n",
       "      <td>00060fb61742ff60e4e3ba4648c74a34cfe9560d</td>\n",
       "      <td>NaN</td>\n",
       "      <td>['Jesi Kim', 'Todd Thomsen', 'Naomi Sell', 'An...</td>\n",
       "      <td>NaN</td>\n",
       "      <td>The outbreak of a novel coronavirus disease ha...</td>\n",
       "    </tr>\n",
       "    <tr>\n",
       "      <th>13</th>\n",
       "      <td>000680e3114af4aa10e8f208cd162a61195f4465</td>\n",
       "      <td>Community frailty response service: the ED at ...</td>\n",
       "      <td>['Rosa Mcnamara', 'Kerri Donnelly', 'Nichola B...</td>\n",
       "      <td>We describe the expansion and adaptation of a ...</td>\n",
       "      <td>A large proportion of short-stay admissions in...</td>\n",
       "    </tr>\n",
       "    <tr>\n",
       "      <th>14</th>\n",
       "      <td>00073cb65dd2596249230fab8b15a71c4a135895</td>\n",
       "      <td>Risk Parameters of Fulminant Acute Respiratory...</td>\n",
       "      <td>['Shoji Kawachi', 'San Luong', 'Mika Shigemats...</td>\n",
       "      <td>A clinical picture of patients with acute resp...</td>\n",
       "      <td>Since then, many clinical case reports have be...</td>\n",
       "    </tr>\n",
       "    <tr>\n",
       "      <th>15</th>\n",
       "      <td>00075c64ada4d1530d1fee02294a8201450f280d</td>\n",
       "      <td>Article eq u i ne Cryptosporidium i n fect i o n</td>\n",
       "      <td>['Lihua Xlao', 'R Herd']</td>\n",
       "      <td>NaN</td>\n",
       "      <td>Diarrhoea is one of the most important disease...</td>\n",
       "    </tr>\n",
       "    <tr>\n",
       "      <th>16</th>\n",
       "      <td>0007f972812bb45abbe5b0edf8db5359d49c23eb</td>\n",
       "      <td>The role of nicotinic receptors in SARS-CoV-2 ...</td>\n",
       "      <td>['Anne Ten Hove', 'David Brinkman', 'Andrew Li...</td>\n",
       "      <td>Background: Recent evidence demonstrated that ...</td>\n",
       "      <td>Coronavirus disease 2019 , caused by severe ac...</td>\n",
       "    </tr>\n",
       "    <tr>\n",
       "      <th>17</th>\n",
       "      <td>0008c57de475138d903f2cca7003cf1e1ad93cf4</td>\n",
       "      <td>The effect of gramicidin inclusions on the loc...</td>\n",
       "      <td>['Elise Azar', 'Doru Constantin', 'Dror Warsch...</td>\n",
       "      <td>We study the local effect of the antimicrobial...</td>\n",
       "      <td>The effect on the cell membrane of inclusions ...</td>\n",
       "    </tr>\n",
       "    <tr>\n",
       "      <th>18</th>\n",
       "      <td>000a0fc8bbef80410199e690191dc3076a290117</td>\n",
       "      <td>PfSWIB, a potential chromatin regulator for va...</td>\n",
       "      <td>['Wei-Feng Wang', 'Yi-Long Zhang']</td>\n",
       "      <td>Background: Various transcription factors are ...</td>\n",
       "      <td>Plasmodium falciparum, which causes malignant ...</td>\n",
       "    </tr>\n",
       "    <tr>\n",
       "      <th>19</th>\n",
       "      <td>000affa746a03f1fe4e3b3ef1a62fdfa9b9ac52a</td>\n",
       "      <td>Correlation between antimicrobial consumption ...</td>\n",
       "      <td>['Chih-Cheng Lai', 'Chen-Chen Chu', 'Aristine ...</td>\n",
       "      <td>Objectives: This study was conducted to invest...</td>\n",
       "      <td>The incidence of health-care-associated infect...</td>\n",
       "    </tr>\n",
       "  </tbody>\n",
       "</table>\n",
       "</div>"
      ],
      "text/plain": [
       "                                    paper_id  \\\n",
       "0   0000028b5cc154f68b8a269f6578f21e31f62977   \n",
       "1   0001418189999fea7f7cbe3e82703d71c85a6fe5   \n",
       "2   00033d5a12240a8684cfe943954132b43434cf48   \n",
       "3   0003793cf9e709bc2b9d0c8111186f78fb73fc04   \n",
       "4   000379d7a7f37a2ccb978862b9f2016bd03259ea   \n",
       "5   00039b94e6cb7609ecbddee1755314bcfeb77faa   \n",
       "6   0003ddc51c4291d742855e9ac56076a3bea33ad7   \n",
       "7   0003ddfb7ce19bcb3f38907f69676163b9863535   \n",
       "8   0004456994f6c1d5db7327990386d33c01cff32a   \n",
       "9   0004774b55eb0dad880aba9b572efe362660c5e0   \n",
       "10  000525b51f78000644865b63d47ac27c624c5981   \n",
       "11  0005a68bbed13ad78ca3d1be654078b8729f8975   \n",
       "12  00060fb61742ff60e4e3ba4648c74a34cfe9560d   \n",
       "13  000680e3114af4aa10e8f208cd162a61195f4465   \n",
       "14  00073cb65dd2596249230fab8b15a71c4a135895   \n",
       "15  00075c64ada4d1530d1fee02294a8201450f280d   \n",
       "16  0007f972812bb45abbe5b0edf8db5359d49c23eb   \n",
       "17  0008c57de475138d903f2cca7003cf1e1ad93cf4   \n",
       "18  000a0fc8bbef80410199e690191dc3076a290117   \n",
       "19  000affa746a03f1fe4e3b3ef1a62fdfa9b9ac52a   \n",
       "\n",
       "                                                title  \\\n",
       "0        \"Multi-faceted\" COVID-19: Russian experience   \n",
       "1   Absence of surface expression of feline infect...   \n",
       "2   Detection of Severe Acute Respiratory Syndrome...   \n",
       "3      Title: Rethinking high-risk groups in COVID-19   \n",
       "4   ScienceDirect ScienceDirect Effect of Nanomate...   \n",
       "5   Plasma inflammatory cytokines and chemokines i...   \n",
       "6   Journal Pre-proofs The Fire This Time: The Str...   \n",
       "7                                                 NaN   \n",
       "8                                                 NaN   \n",
       "9                                Disaster Perceptions   \n",
       "10  Journal Pre-proof Editorial: Root causes and p...   \n",
       "11  Antiviral Potential of Nanoparticles-Can Nanop...   \n",
       "12                                                NaN   \n",
       "13  Community frailty response service: the ED at ...   \n",
       "14  Risk Parameters of Fulminant Acute Respiratory...   \n",
       "15   Article eq u i ne Cryptosporidium i n fect i o n   \n",
       "16  The role of nicotinic receptors in SARS-CoV-2 ...   \n",
       "17  The effect of gramicidin inclusions on the loc...   \n",
       "18  PfSWIB, a potential chromatin regulator for va...   \n",
       "19  Correlation between antimicrobial consumption ...   \n",
       "\n",
       "                                              authors  \\\n",
       "0                                                 NaN   \n",
       "1   ['E Cornelissen', 'H Dewerchin', 'E Hamme', 'H...   \n",
       "2   ['Petra Wandernoth', 'Katharina Kriegsmann', '...   \n",
       "3          ['Anastasia Vishnevetsky', 'Michael Levy']   \n",
       "4                ['Harish Devaraj', 'Rajiv Malhotra']   \n",
       "5   ['W Lam', 'C Wong', 'C Lam', 'A Wu', 'W Ip', '...   \n",
       "6                 ['Olusola Ajilore', 'April Thames']   \n",
       "7              ['Allan De Guzman', 'Darwin Angcahan']   \n",
       "8   ['Chris Williams', 'Brunhilde Schweiger', 'Gen...   \n",
       "9                                                 NaN   \n",
       "10  ['Irasema Alcántara-Ayala', 'Ian Burton', 'All...   \n",
       "11  ['Sangiliyandi Gurunathan', 'Muhammad Qasim', ...   \n",
       "12  ['Jesi Kim', 'Todd Thomsen', 'Naomi Sell', 'An...   \n",
       "13  ['Rosa Mcnamara', 'Kerri Donnelly', 'Nichola B...   \n",
       "14  ['Shoji Kawachi', 'San Luong', 'Mika Shigemats...   \n",
       "15                           ['Lihua Xlao', 'R Herd']   \n",
       "16  ['Anne Ten Hove', 'David Brinkman', 'Andrew Li...   \n",
       "17  ['Elise Azar', 'Doru Constantin', 'Dror Warsch...   \n",
       "18                 ['Wei-Feng Wang', 'Yi-Long Zhang']   \n",
       "19  ['Chih-Cheng Lai', 'Chen-Chen Chu', 'Aristine ...   \n",
       "\n",
       "                                             abstract  \\\n",
       "0                                                 NaN   \n",
       "1   Feline infectious peritonitis virus (FIPV) pos...   \n",
       "2   Background: Amplification of viral ribonucleic...   \n",
       "3                                                 NaN   \n",
       "4   approach. The NM shape in the conformal circui...   \n",
       "5   Severe acute respiratory syndrome (SARS) is a ...   \n",
       "6                                                 NaN   \n",
       "7   The value of professional identity is an inter...   \n",
       "8   Background: Influenza immunisation for healthc...   \n",
       "9                                                 NaN   \n",
       "10                                                NaN   \n",
       "11  Infectious diseases account for more than 20% ...   \n",
       "12                                                NaN   \n",
       "13  We describe the expansion and adaptation of a ...   \n",
       "14  A clinical picture of patients with acute resp...   \n",
       "15                                                NaN   \n",
       "16  Background: Recent evidence demonstrated that ...   \n",
       "17  We study the local effect of the antimicrobial...   \n",
       "18  Background: Various transcription factors are ...   \n",
       "19  Objectives: This study was conducted to invest...   \n",
       "\n",
       "                                            body_text  \n",
       "0   According to current live statistics at the ti...  \n",
       "1   Feline infectious peritonitis (FIP) is a fatal...  \n",
       "2   Severe acute respiratory syndrome coronavirus ...  \n",
       "3   How do we protect our 'high-risk' patient popu...  \n",
       "4   Integration of functional electronic devices o...  \n",
       "5   Severe acute respiratory syndrome (SARS) is a ...  \n",
       "6   It is said that crisis reveals character. The ...  \n",
       "7   Considered as the most important asset in the ...  \n",
       "8   The German standing commission for immunisatio...  \n",
       "9   . So, if there is no singular definition of ri...  \n",
       "10  Today the term \"pandemic\" is both a metaphor f...  \n",
       "11  Infectious diseases are caused by pathogenic m...  \n",
       "12  The outbreak of a novel coronavirus disease ha...  \n",
       "13  A large proportion of short-stay admissions in...  \n",
       "14  Since then, many clinical case reports have be...  \n",
       "15  Diarrhoea is one of the most important disease...  \n",
       "16  Coronavirus disease 2019 , caused by severe ac...  \n",
       "17  The effect on the cell membrane of inclusions ...  \n",
       "18  Plasmodium falciparum, which causes malignant ...  \n",
       "19  The incidence of health-care-associated infect...  "
      ]
     },
     "execution_count": 78,
     "metadata": {},
     "output_type": "execute_result"
    }
   ],
   "source": [
    "test_csv.head(20)"
   ]
  },
  {
   "cell_type": "code",
   "execution_count": 40,
   "metadata": {},
   "outputs": [],
   "source": [
    "def parse_file(filename):\n",
    "    file = filename  #takes in a json file\n",
    "    # We will store all parsed data into values dictionary\n",
    "    values = {}\n",
    "    # Unique identifier for each paper\n",
    "    values['paper_id'] = file['paper_id']\n",
    "    # Title of the paper\n",
    "    values['title'] = file['metadata']['title']\n",
    "    if values['title'] == '': values['title'] = np.NAN\n",
    "    # Authors metadata\n",
    "    authors = file['metadata']['authors']\n",
    "    names = [i['first'] + \" \" + i['last'] for i in authors]\n",
    "    if names == []: names = np.NAN\n",
    "    values['authors'] = names\n",
    "    # Abstract of the paper\n",
    "    abstract = [''.join(j['text']) for j in file['abstract']]\n",
    "    if abstract == []: abstract = np.NAN\n",
    "    values['abstract'] = abstract\n",
    "    # Main text body of the paper\n",
    "    body_text = [''.join(j['text']) for j in file['body_text']]\n",
    "    if body_text == []: body_text = np.NAN\n",
    "    values['body_text'] = body_text\n",
    "\n",
    "    return values"
   ]
  },
  {
   "cell_type": "code",
   "execution_count": 45,
   "metadata": {},
   "outputs": [
    {
     "data": {
      "text/html": [
       "<div>\n",
       "<style scoped>\n",
       "    .dataframe tbody tr th:only-of-type {\n",
       "        vertical-align: middle;\n",
       "    }\n",
       "\n",
       "    .dataframe tbody tr th {\n",
       "        vertical-align: top;\n",
       "    }\n",
       "\n",
       "    .dataframe thead th {\n",
       "        text-align: right;\n",
       "    }\n",
       "</style>\n",
       "<table border=\"1\" class=\"dataframe\">\n",
       "  <thead>\n",
       "    <tr style=\"text-align: right;\">\n",
       "      <th></th>\n",
       "      <th>paper_id</th>\n",
       "      <th>title</th>\n",
       "      <th>authors</th>\n",
       "      <th>abstract</th>\n",
       "      <th>body_text</th>\n",
       "    </tr>\n",
       "  </thead>\n",
       "  <tbody>\n",
       "    <tr>\n",
       "      <th>0</th>\n",
       "      <td>0000028b5cc154f68b8a269f6578f21e31f62977</td>\n",
       "      <td>\"Multi-faceted\" COVID-19: Russian experience</td>\n",
       "      <td>NaN</td>\n",
       "      <td>NaN</td>\n",
       "      <td>[According to current live statistics at the t...</td>\n",
       "    </tr>\n",
       "    <tr>\n",
       "      <th>1</th>\n",
       "      <td>0001418189999fea7f7cbe3e82703d71c85a6fe5</td>\n",
       "      <td>Absence of surface expression of feline infect...</td>\n",
       "      <td>[E Cornelissen, H Dewerchin, E Hamme, H Nauwynck]</td>\n",
       "      <td>[Feline infectious peritonitis virus (FIPV) po...</td>\n",
       "      <td>[Feline infectious peritonitis (FIP) is a fata...</td>\n",
       "    </tr>\n",
       "    <tr>\n",
       "      <th>2</th>\n",
       "      <td>00033d5a12240a8684cfe943954132b43434cf48</td>\n",
       "      <td>Detection of Severe Acute Respiratory Syndrome...</td>\n",
       "      <td>[Petra Wandernoth, Katharina Kriegsmann, Crist...</td>\n",
       "      <td>[Background: Amplification of viral ribonuclei...</td>\n",
       "      <td>[Severe acute respiratory syndrome coronavirus...</td>\n",
       "    </tr>\n",
       "    <tr>\n",
       "      <th>3</th>\n",
       "      <td>0003793cf9e709bc2b9d0c8111186f78fb73fc04</td>\n",
       "      <td>Title: Rethinking high-risk groups in COVID-19</td>\n",
       "      <td>[Anastasia Vishnevetsky, Michael Levy]</td>\n",
       "      <td>NaN</td>\n",
       "      <td>[How do we protect our 'high-risk' patient pop...</td>\n",
       "    </tr>\n",
       "    <tr>\n",
       "      <th>4</th>\n",
       "      <td>000379d7a7f37a2ccb978862b9f2016bd03259ea</td>\n",
       "      <td>ScienceDirect ScienceDirect Effect of Nanomate...</td>\n",
       "      <td>[Harish Devaraj, Rajiv Malhotra]</td>\n",
       "      <td>[approach. The NM shape in the conformal circu...</td>\n",
       "      <td>[Integration of functional electronic devices ...</td>\n",
       "    </tr>\n",
       "    <tr>\n",
       "      <th>...</th>\n",
       "      <td>...</td>\n",
       "      <td>...</td>\n",
       "      <td>...</td>\n",
       "      <td>...</td>\n",
       "      <td>...</td>\n",
       "    </tr>\n",
       "    <tr>\n",
       "      <th>9995</th>\n",
       "      <td>13f5c3597bd413798c5696299c3632d3fadf6344</td>\n",
       "      <td>Emerging trends of Nipah virus: A review</td>\n",
       "      <td>[Vikrant Sharma, Sulochana Kaushik, | Kumar, |...</td>\n",
       "      <td>NaN</td>\n",
       "      <td>[newly isolated virus showed cross reaction wi...</td>\n",
       "    </tr>\n",
       "    <tr>\n",
       "      <th>9996</th>\n",
       "      <td>13f5fe81e7b9fe7f66655f0a2d5fb1ce6b43bf7f</td>\n",
       "      <td>NaN</td>\n",
       "      <td>[Wing-Fu Lai]</td>\n",
       "      <td>[a b s t r a c t Cyclodextrins (CDs) are natur...</td>\n",
       "      <td>[Cyclodextrins (CDs) are cyclic (a-1,4)-linked...</td>\n",
       "    </tr>\n",
       "    <tr>\n",
       "      <th>9997</th>\n",
       "      <td>13f68e760ede5668c4a208d7a0f8860ef94f2446</td>\n",
       "      <td>THE ROLE OF THE HOME ENVIRONMENT IN THE TRANSM...</td>\n",
       "      <td>[Lori Kagan, Allison Aiello, Elaine Larson]</td>\n",
       "      <td>[The purpose of this paper is to examine curre...</td>\n",
       "      <td>[During the past few decades, research on the ...</td>\n",
       "    </tr>\n",
       "    <tr>\n",
       "      <th>9998</th>\n",
       "      <td>13f6bc615450f0470c2a265e0a2c8506f0b05048</td>\n",
       "      <td>Assessing microbial decontamination of indoor ...</td>\n",
       "      <td>[Caroline Duchaine]</td>\n",
       "      <td>[Airborne transmission of pathogens aerosol ag...</td>\n",
       "      <td>[Although the microbial world is rich in diver...</td>\n",
       "    </tr>\n",
       "    <tr>\n",
       "      <th>9999</th>\n",
       "      <td>13f7317a1b635f4b48d924ce11f0e4ef47bf19d6</td>\n",
       "      <td>NaN</td>\n",
       "      <td>[Oliver Koch, Susanne Sheehy, Catherine Sargen...</td>\n",
       "      <td>NaN</td>\n",
       "      <td>[Respiratory Cidofovir has been used to treat ...</td>\n",
       "    </tr>\n",
       "  </tbody>\n",
       "</table>\n",
       "<p>10000 rows × 5 columns</p>\n",
       "</div>"
      ],
      "text/plain": [
       "                                      paper_id  \\\n",
       "0     0000028b5cc154f68b8a269f6578f21e31f62977   \n",
       "1     0001418189999fea7f7cbe3e82703d71c85a6fe5   \n",
       "2     00033d5a12240a8684cfe943954132b43434cf48   \n",
       "3     0003793cf9e709bc2b9d0c8111186f78fb73fc04   \n",
       "4     000379d7a7f37a2ccb978862b9f2016bd03259ea   \n",
       "...                                        ...   \n",
       "9995  13f5c3597bd413798c5696299c3632d3fadf6344   \n",
       "9996  13f5fe81e7b9fe7f66655f0a2d5fb1ce6b43bf7f   \n",
       "9997  13f68e760ede5668c4a208d7a0f8860ef94f2446   \n",
       "9998  13f6bc615450f0470c2a265e0a2c8506f0b05048   \n",
       "9999  13f7317a1b635f4b48d924ce11f0e4ef47bf19d6   \n",
       "\n",
       "                                                  title  \\\n",
       "0          \"Multi-faceted\" COVID-19: Russian experience   \n",
       "1     Absence of surface expression of feline infect...   \n",
       "2     Detection of Severe Acute Respiratory Syndrome...   \n",
       "3        Title: Rethinking high-risk groups in COVID-19   \n",
       "4     ScienceDirect ScienceDirect Effect of Nanomate...   \n",
       "...                                                 ...   \n",
       "9995           Emerging trends of Nipah virus: A review   \n",
       "9996                                                NaN   \n",
       "9997  THE ROLE OF THE HOME ENVIRONMENT IN THE TRANSM...   \n",
       "9998  Assessing microbial decontamination of indoor ...   \n",
       "9999                                                NaN   \n",
       "\n",
       "                                                authors  \\\n",
       "0                                                   NaN   \n",
       "1     [E Cornelissen, H Dewerchin, E Hamme, H Nauwynck]   \n",
       "2     [Petra Wandernoth, Katharina Kriegsmann, Crist...   \n",
       "3                [Anastasia Vishnevetsky, Michael Levy]   \n",
       "4                      [Harish Devaraj, Rajiv Malhotra]   \n",
       "...                                                 ...   \n",
       "9995  [Vikrant Sharma, Sulochana Kaushik, | Kumar, |...   \n",
       "9996                                      [Wing-Fu Lai]   \n",
       "9997        [Lori Kagan, Allison Aiello, Elaine Larson]   \n",
       "9998                                [Caroline Duchaine]   \n",
       "9999  [Oliver Koch, Susanne Sheehy, Catherine Sargen...   \n",
       "\n",
       "                                               abstract  \\\n",
       "0                                                   NaN   \n",
       "1     [Feline infectious peritonitis virus (FIPV) po...   \n",
       "2     [Background: Amplification of viral ribonuclei...   \n",
       "3                                                   NaN   \n",
       "4     [approach. The NM shape in the conformal circu...   \n",
       "...                                                 ...   \n",
       "9995                                                NaN   \n",
       "9996  [a b s t r a c t Cyclodextrins (CDs) are natur...   \n",
       "9997  [The purpose of this paper is to examine curre...   \n",
       "9998  [Airborne transmission of pathogens aerosol ag...   \n",
       "9999                                                NaN   \n",
       "\n",
       "                                              body_text  \n",
       "0     [According to current live statistics at the t...  \n",
       "1     [Feline infectious peritonitis (FIP) is a fata...  \n",
       "2     [Severe acute respiratory syndrome coronavirus...  \n",
       "3     [How do we protect our 'high-risk' patient pop...  \n",
       "4     [Integration of functional electronic devices ...  \n",
       "...                                                 ...  \n",
       "9995  [newly isolated virus showed cross reaction wi...  \n",
       "9996  [Cyclodextrins (CDs) are cyclic (a-1,4)-linked...  \n",
       "9997  [During the past few decades, research on the ...  \n",
       "9998  [Although the microbial world is rich in diver...  \n",
       "9999  [Respiratory Cidofovir has been used to treat ...  \n",
       "\n",
       "[10000 rows x 5 columns]"
      ]
     },
     "execution_count": 45,
     "metadata": {},
     "output_type": "execute_result"
    }
   ],
   "source": [
    "pd.DataFrame.from_dict(df_dict)"
   ]
  },
  {
   "cell_type": "code",
   "execution_count": null,
   "metadata": {},
   "outputs": [],
   "source": [
    "/content/cord.csv"
   ]
  }
 ],
 "metadata": {
  "kernelspec": {
   "display_name": "Python 3",
   "language": "python",
   "name": "python3"
  },
  "language_info": {
   "codemirror_mode": {
    "name": "ipython",
    "version": 3
   },
   "file_extension": ".py",
   "mimetype": "text/x-python",
   "name": "python",
   "nbconvert_exporter": "python",
   "pygments_lexer": "ipython3",
   "version": "3.8.5"
  },
  "varInspector": {
   "cols": {
    "lenName": 16,
    "lenType": 16,
    "lenVar": 40
   },
   "kernels_config": {
    "python": {
     "delete_cmd_postfix": "",
     "delete_cmd_prefix": "del ",
     "library": "var_list.py",
     "varRefreshCmd": "print(var_dic_list())"
    },
    "r": {
     "delete_cmd_postfix": ") ",
     "delete_cmd_prefix": "rm(",
     "library": "var_list.r",
     "varRefreshCmd": "cat(var_dic_list()) "
    }
   },
   "position": {
    "height": "241.194px",
    "left": "1193.67px",
    "right": "20px",
    "top": "172px",
    "width": "498px"
   },
   "types_to_exclude": [
    "module",
    "function",
    "builtin_function_or_method",
    "instance",
    "_Feature"
   ],
   "window_display": false
  }
 },
 "nbformat": 4,
 "nbformat_minor": 4
}
